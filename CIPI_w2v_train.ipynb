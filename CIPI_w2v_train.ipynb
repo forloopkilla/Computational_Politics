{
 "cells": [
  {
   "cell_type": "markdown",
   "metadata": {},
   "source": [
    "# Load in packages"
   ]
  },
  {
   "cell_type": "markdown",
   "metadata": {},
   "source": [
    "#### code Source: \n",
    "- https://www.machinelearningplus.com/nlp/topic-modeling-gensim-python/\n",
    "- https://nlpforhackers.io/topic-modeling/\n",
    "- https://primer.ai/blog/Chinese-Word-Vectors/\n",
    "- https://github.com/crownpku/awesome-chinese-nlp#toolkits-%E7%BB%BC%E5%90%88nlp%E5%B7%A5%E5%85%B7%E5%8C%85-1"
   ]
  },
  {
   "cell_type": "code",
   "execution_count": 2,
   "metadata": {},
   "outputs": [],
   "source": [
    "from __future__ import absolute_import, division, print_function\n",
    "# for word vec\n",
    "import gensim\n",
    "from gensim.models import Word2Vec as w2v\n",
    "import gensim.corpora as corpora\n",
    "from gensim.utils import simple_preprocess\n",
    "from gensim.models import CoherenceModel\n",
    "from gensim.models import LdaModel\n",
    "from gensim.corpora import Dictionary\n",
    "from sklearn.feature_extraction.text import TfidfVectorizer\n",
    "\n",
    "import codecs\n",
    "import glob\n",
    "import multiprocessing\n",
    "import os\n",
    "import nltk\n",
    "import pprint\n",
    "import re\n",
    "import sklearn.manifold\n",
    "import numpy as np\n",
    "import matplotlib.pyplot as plt\n",
    "import pandas as pd\n",
    "import seaborn as sb\n",
    "import jieba\n",
    "import itertools"
   ]
  },
  {
   "cell_type": "markdown",
   "metadata": {},
   "source": [
    "# What is a Word Vector"
   ]
  },
  {
   "cell_type": "markdown",
   "metadata": {},
   "source": [
    "##  It is a row of real valued numbers (as opposed to dummy numbers) where each point captures a dimension of the word’s meaning and where semantically similar words have similar vectors. This means that words such as wheel and engine should have similar word vectors to the word car (because of the similarity of their meanings), whereas the word banana should be quite distant.\n",
    "> * source: https://medium.com/@jayeshbahire/introduction-to-word-vectors-ea1d4e4b84bf"
   ]
  },
  {
   "cell_type": "code",
   "execution_count": 5,
   "metadata": {},
   "outputs": [
    {
     "name": "stdout",
     "output_type": "stream",
     "text": [
      "['.Rhistory', 'BIG_MIIT_UNIQUE.csv', 'CIPI_text.Rmd', 'polytech.R', 'polytech_werk.RData', 'polytech_wordEmbed.RData', 'scrape_ver0.R']\n"
     ]
    },
    {
     "data": {
      "text/plain": [
       "9198    关于政协十三届全国委员会第一次会议第2241号（工交邮电类163号）提案答复的函（摘要）\n",
       "9199       公开征集对《腐植酸肥料增效剂》等377项行业标准和52项国家标准计划项目的意...\n",
       "9200              公开征集对《搪玻璃设备技术条件》等22项强制性国家标准计划项目的意见\n",
       "9201       申报工业和信息化部《道路机动车辆生产企业及产品公告》（第311批）的车辆新产...\n",
       "9202       《道路机动车辆生产企业及产品公告》（第311批）拟发布的新增车辆生产企业及已...\n",
       "Name: title, dtype: object"
      ]
     },
     "execution_count": 5,
     "metadata": {},
     "output_type": "execute_result"
    }
   ],
   "source": [
    "print(os.listdir(\"../ASUS/desktop/Thesis/codes\"))\n",
    "#MIIT = pd.read_csv(\"../Thesis/BIG_MIIT_UNIQUE.csv\")\n",
    "df = pd.DataFrame(pd.read_csv('../ASUS/desktop/Thesis/codes/BIG_MIIT_UNIQUE.csv',encoding='GBK')) \n",
    "df.title.tail()"
   ]
  },
  {
   "cell_type": "markdown",
   "metadata": {},
   "source": [
    "# GOAL : create word vec from ministry  websites  and analyse them to see semantic similarities\n"
   ]
  },
  {
   "cell_type": "markdown",
   "metadata": {},
   "source": [
    "> ### Step 1: Functions we need to perform "
   ]
  },
  {
   "cell_type": "code",
   "execution_count": 126,
   "metadata": {},
   "outputs": [],
   "source": [
    "import jieba\n",
    "import string\n",
    "import nltk\n",
    "from pandas import DataFrame\n",
    "\n",
    "def get_chinese_characters(raw):\n",
    "    \"\"\"Return list of Chinese characters in sentence.\n",
    "    :param raw: raw chinese text\n",
    "    \"\"\"\n",
    "    return list(sentence)\n",
    "\n",
    "def get_chinese_words(raw):\n",
    "    \"\"\"Return list of Chinese words in sentence without stopwords. \n",
    "    :param raw: raw chinese text\n",
    "    \"\"\"\n",
    "    stop_words = open(\"C:/Users/ASUS/Desktop/Thesis/stop_words/stop_words.txt\")\n",
    "    stop_words = stop_words.read()\n",
    "    tokens = jieba.lcut(raw)\n",
    "    result = [i for i in tokens if not i in stop_words]\n",
    "    return result\n",
    "    \n",
    "def get_chinese_character_positions(raw):\n",
    "    \"\"\"Return a list of characters with their positions in the words. \n",
    "    :param raw: raw chinese text\n",
    "    \"\"\"\n",
    "    return [u'{}{}'.format(char, i)\n",
    "            for word in get_chinese_words(raw)\n",
    "            for i, char in enumerate(word)]\n",
    "\n",
    "def get_topic_distribution(lda_model, raw_input, dictionary):\n",
    "    \"\"\"Return a vecor of topical distribution of each document or text. \n",
    "    :param lda_model: the output of the function gensim.models.ldamodel.LdaModel\n",
    "    :param raw_imput: raw chinese policy text or doc\n",
    "    :param dictionary: the output of corpora.Dictionary() function which is the vocab.\n",
    "    \"\"\"\n",
    "    other_texts = [ # needs tokenized\n",
    "        get_chinese_words(raw_input)\n",
    "    ]\n",
    "    #dictionary = Dictionary(sentences)\n",
    "    other_corpus = [dictionary.doc2bow(text) for text in other_texts]\n",
    "    unseen_doc = other_corpus[0]\n",
    "    vector = lda_model[unseen_doc][0]\n",
    "    return(DataFrame.from_records(vector)[1])"
   ]
  },
  {
   "cell_type": "code",
   "execution_count": 7,
   "metadata": {},
   "outputs": [
    {
     "data": {
      "text/plain": [
       "['集成电路设计企业及产品认定管理办法问答',\n",
       " '集成电路设计企业及产品认定管理办法问答',\n",
       " '苏金生局长就重新调整《电信业务分类目录》答记者问',\n",
       " '苏金生局长就重新调整《电信业务分类目录》答记者问',\n",
       " '彭晓芳副司长解读电信资费监管思路\\u3000积极稳妥推进资费改革',\n",
       " '彭晓芳副司长解读电信资费监管思路\\u3000积极稳妥推进资费改革']"
      ]
     },
     "execution_count": 7,
     "metadata": {},
     "output_type": "execute_result"
    }
   ],
   "source": [
    "#sent = df.title.str.cat()\n",
    "sent = list(df.title)\n",
    "sent[0:6]"
   ]
  },
  {
   "cell_type": "code",
   "execution_count": 8,
   "metadata": {},
   "outputs": [
    {
     "name": "stderr",
     "output_type": "stream",
     "text": [
      "Building prefix dict from the default dictionary ...\n",
      "Loading model from cache C:\\Users\\ASUS\\AppData\\Local\\Temp\\jieba.cache\n",
      "Loading model cost 0.813 seconds.\n",
      "Prefix dict has been built succesfully.\n"
     ]
    },
    {
     "data": {
      "text/plain": [
       "['苏金生', '局长', '重新', '调整', '电信业务', '分类目录', '答记者问']"
      ]
     },
     "execution_count": 8,
     "metadata": {},
     "output_type": "execute_result"
    }
   ],
   "source": [
    "sentences = []\n",
    "for i in sent:\n",
    "    sentences.append(get_chinese_words(i))\n",
    "\n",
    "sentences[2] # NO SHITTY STOP WORDS!"
   ]
  },
  {
   "cell_type": "markdown",
   "metadata": {},
   "source": [
    "### Classification and Bag of Words Dictionary:\n",
    "> * Each post goes into each bag (Hangye, Themes, type) to output the most probable topic, industry, theme, and policy type\n",
    "> * Each post will output the % of elements of each Hanye, Themes,Types_policy it represent, e.g. post A has 20% 农业，30% 房地产， 50% 信息 for Hange. Is that possible?"
   ]
  },
  {
   "cell_type": "code",
   "execution_count": 9,
   "metadata": {},
   "outputs": [],
   "source": [
    "Hangye = [\n",
    "    \"非政府组织\",\n",
    "    \"农业\", \n",
    "    \"化妆品\",\n",
    "    \"制药和医疗卫生服务\", \n",
    "    \"航空航天\",\n",
    "    \"机械设备\",\n",
    "    \"汽车\",\n",
    "    \"车辆\",\n",
    "    \"专业服务\",\n",
    "    \"化工\",\n",
    "    \"石油\",\n",
    "    \"制造\",\n",
    "    \"制造业\",\n",
    "    \"法律\",\n",
    "    \"土木工程与建筑\",\n",
    "    \"医疗设备\",\n",
    "    \"食品和饮料\",\n",
    "    \"运输，物流和配送\",\n",
    "    \"金融服务,保险\",\n",
    "    \"信息和通信技术\",\n",
    "    \"能源\",\n",
    "    \"教育\",\n",
    "    \"媒体和娱乐业\",\n",
    "    \"房地产\",\n",
    "    \"零售和电子商务\",\n",
    "    \"体育\"]\n",
    "\n",
    "Themes = [\n",
    "  \"竞争法规\",\n",
    "  \"合规\",\n",
    "  \"关税和贸易\",\n",
    "  \"政府采购\",\n",
    "  \"补贴\",\n",
    "  \"补助\",\n",
    "  \"出口管控\",\n",
    "  \"知识产权\",\n",
    "  \"标准\",\n",
    "  \"认证和合格评定\",\n",
    "  \"税收\",\n",
    "  \"研发\",\n",
    "  \"产业基金\",\n",
    "  \"创新\",\n",
    "  \"网络安全\",\n",
    "  \"技术转让\",\n",
    "  \"市场准入\",\n",
    "  \"一带一路\",\n",
    "  \"国有企业\",\n",
    "  \"环境保护\"\n",
    "  \"中国\",\n",
    "  \"制造2025\"]\n",
    "  \n",
    "types_policy = [\n",
    "  \"法律\",\n",
    "  \"行政法规\",\n",
    "  \"监察法规\",\n",
    "  \"司法解释\",\n",
    "  \"部门规章\",\n",
    "  \"军事法规规章\",\n",
    "  \"党内法规\",\n",
    "  \"团体规定\",\n",
    "  \"行业规定\",\n",
    "  \"政府新闻稿\",\n",
    "  \"演讲\",\n",
    "  \"数据\",\n",
    "  \"政策分析\",\n",
    "  \"税收政策\"]\n",
    "\n",
    "# Defintion of Tighten and Loosen: \n",
    "tighten_control = [\"监控\",\"监督管理\", \"检查\",\"审核\",\"打非\", \"考核\",\"审批\",\"禁止\",\"抽查\",\"强制\"] # using \"监控，监督\" as root\n",
    "implement_expand = [\"优化\",\"提升\",\"研究\", \"支持\", \"自主\", \"振兴\",\"推进\" # using 扩大 as root\n",
    "                     \"设置\", # using 开放 as root\n",
    "                     \"推动\",\"专项规划\", # using 增长 as root\n",
    "                     \"高效\", # using 推动\n",
    "                     \"推广\", \"开展\",\"加快\",\"加强\",\"指南\"  # using 推广\n",
    "                    ] "
   ]
  },
  {
   "cell_type": "code",
   "execution_count": 10,
   "metadata": {},
   "outputs": [],
   "source": [
    "#### basically make this into more features for every post: Hangye | Themes | Policy Type\n",
    "def classify_policy(policy):\n",
    "    \"\"\"\n",
    "    Helps classify a policy in terms of Industry, Themes, Policy_Type, \n",
    "    Tighten, Expand\n",
    "    :param policy: raw chinese text\n",
    "    \"\"\"\n",
    "    match = lambda a, b: [ b.index(x)+1 if x in b else None for x in a ]\n",
    "\n",
    "    aa = []\n",
    "    hangye_list = []\n",
    "    temp = []\n",
    "#for pol in policy:\n",
    "    b = get_chinese_words(policy)\n",
    "    Mylist = match(b,Hangye) # numbers reflect on nth element of 'Hangye'\n",
    "    if len([e for e in Mylist if e != None]) == 0:\n",
    "        hangye_list.append(None)\n",
    "    else:\n",
    "        for i in Mylist:\n",
    "            if i is not None:\n",
    "                aa.append(int(i))\n",
    "                for j in aa:\n",
    "                    if j is not None:\n",
    "                        temp.append(Hangye[j-1])\n",
    "        hangye_list.append(temp)  # why -1? \n",
    "                        # bc query from the real array, 0 index = 1 index\n",
    "#print(len(hangye_list))\n",
    "\n",
    "    bb = []\n",
    "    themes_list = []\n",
    "    temp = []\n",
    "    #for pol in policy:\n",
    "    b = get_chinese_words(policy)\n",
    "    Mylist = match(b,Themes) # numbers reflect on nth element of 'Hangye'\n",
    "    if len([e for e in Mylist if e != None]) == 0:\n",
    "        themes_list.append(None)\n",
    "    else:\n",
    "        for i in Mylist:\n",
    "            if i is not None:\n",
    "                bb.append(int(i))\n",
    "                for j in bb:\n",
    "                    if j is not None:\n",
    "                        temp.append(Themes[j-1])\n",
    "        themes_list.append(temp) \n",
    "#print(len(themes_list))   \n",
    "\n",
    "    cc = []\n",
    "    type_list = []\n",
    "    temp = []\n",
    "    #for pol in policy:\n",
    "    b = get_chinese_words(policy)\n",
    "    Mylist = match(b,types_policy) # numbers reflect on nth element of 'Hangye'\n",
    "    if len([e for e in Mylist if e != None]) == 0:\n",
    "         type_list.append(None)\n",
    "    else:\n",
    "        for i in Mylist:\n",
    "            if i is not None:\n",
    "                cc.append(int(i))\n",
    "                for j in cc:\n",
    "                    if j is not None:\n",
    "                        temp.append(types_policy[j-1])\n",
    "        type_list.append(temp)             \n",
    "#print(len(type_list))\n",
    "\n",
    "\n",
    "    dd = []\n",
    "    control_list = []\n",
    "    temp = []\n",
    "    #for pol in policy:\n",
    "    b = get_chinese_words(policy)\n",
    "    Mylist = match(b,tighten_control) # numbers reflect on nth element of 'Hangye'\n",
    "    if len([e for e in Mylist if e != None]) == 0:\n",
    "        control_list.append(None)\n",
    "    else:\n",
    "        for i in Mylist:\n",
    "            if i is not None:\n",
    "                dd.append(int(i))\n",
    "                for j in dd:\n",
    "                    if j is not None:\n",
    "                        temp.append(tighten_control[j-1])\n",
    "        control_list.append(temp)\n",
    "#print(len(control_list))\n",
    "\n",
    "    ee = []\n",
    "    expand_list = []\n",
    "    temp = []\n",
    "    #for pol in policy:\n",
    "    b = get_chinese_words(policy)\n",
    "    Mylist = match(b,implement_expand) # numbers reflect on nth element of 'Hangye'\n",
    "    if len([e for e in Mylist if e != None]) == 0:\n",
    "        expand_list.append(None)\n",
    "    else:\n",
    "        for i in Mylist:\n",
    "            if i is not None:\n",
    "                ee.append(int(i))\n",
    "                for j in ee:\n",
    "                    if j is not None:\n",
    "                        temp.append(implement_expand[j-1])\n",
    "        expand_list.append(temp)\n",
    "    #print(len(expand_list))\n",
    "    print(\"Industry:\", hangye_list,\"\\n\"\n",
    "          \"Themes:\", themes_list,\"\\n\"\n",
    "          \"Policy Type:\", type_list,\"\\n\"\n",
    "          \"Policy Tighten:\", control_list,\"\\n\"\n",
    "          \"Policy Expansion:\", expand_list)\n"
   ]
  },
  {
   "cell_type": "code",
   "execution_count": 301,
   "metadata": {},
   "outputs": [
    {
     "name": "stdout",
     "output_type": "stream",
     "text": [
      "['非政府组织', '农业', '化妆品', '制药和医疗卫生服务', '航空航天', '机械设备', '汽车', '车辆', '专业服务', '化工', '石油', '制造', '制造业', '法律', '土木工程与建筑', '医疗设备', '食品和饮料', '运输，物流和配送', '金融服务,保险', '信息和通信技术', '能源', '教育', '媒体和娱乐业', '房地产', '零售和电子商务', '体育']\n",
      "[26]\n",
      "26\n",
      "体育\n"
     ]
    }
   ],
   "source": [
    "\n",
    "print(Hangye)\n",
    "print(match([\"体育\"],Hangye))\n",
    "print(len(Hangye))\n",
    "print(Hangye[25])\n"
   ]
  },
  {
   "cell_type": "code",
   "execution_count": 11,
   "metadata": {},
   "outputs": [
    {
     "name": "stdout",
     "output_type": "stream",
     "text": [
      "Industry: [['汽车']] \n",
      "Themes: [['补助']] \n",
      "Policy Type: [None] \n",
      "Policy Tighten: [['审核']] \n",
      "Policy Expansion: [None]\n",
      "None\n",
      "关于2017年及以前年度新能源汽车推广应用补助资金初步审核情况的公示\n"
     ]
    }
   ],
   "source": [
    "print(classify_policy(df.title[9000]))\n",
    "print(df.title[9000])"
   ]
  },
  {
   "cell_type": "markdown",
   "metadata": {},
   "source": [
    "> ## Step 3: TRAINING. ONCE we have vectors we can use them to:\n",
    "> ### Distance, Similarity, Ranking"
   ]
  },
  {
   "cell_type": "markdown",
   "metadata": {},
   "source": [
    "> ## Model 0"
   ]
  },
  {
   "cell_type": "code",
   "execution_count": 29,
   "metadata": {},
   "outputs": [
    {
     "name": "stderr",
     "output_type": "stream",
     "text": [
      "C:\\Users\\ASUS\\Anaconda3\\lib\\site-packages\\ipykernel_launcher.py:3: DeprecationWarning: Call to deprecated `iter` (Attribute will be removed in 4.0.0, use self.epochs instead).\n",
      "  This is separate from the ipykernel package so we can avoid doing imports until\n"
     ]
    }
   ],
   "source": [
    "model = w2v(min_count=1)\n",
    "model.build_vocab(sentences)  # prepare the model vocabulary\n",
    "model.train(sentences, total_examples=model.corpus_count, epochs=model.iter)  # train word vectors\n",
    "model.save(os.path.join(\"trained\",\"model_0.w2v\"))"
   ]
  },
  {
   "cell_type": "code",
   "execution_count": 31,
   "metadata": {},
   "outputs": [
    {
     "name": "stderr",
     "output_type": "stream",
     "text": [
      "C:\\Users\\ASUS\\Anaconda3\\lib\\site-packages\\ipykernel_launcher.py:1: DeprecationWarning: Call to deprecated `most_similar` (Method will be removed in 4.0.0, use self.wv.most_similar() instead).\n",
      "  \"\"\"Entry point for launching an IPython kernel.\n"
     ]
    },
    {
     "data": {
      "text/plain": [
       "[('基础', 0.8542715311050415),\n",
       " ('中小企业', 0.8488852977752686),\n",
       " ('116', 0.8455054759979248),\n",
       " ('硬件', 0.8381637334823608),\n",
       " ('局局长', 0.8318630456924438),\n",
       " ('重大', 0.8290581703186035),\n",
       " ('申', 0.8284088969230652),\n",
       " ('工业化', 0.8217164278030396),\n",
       " ('国家', 0.8214715719223022),\n",
       " ('新型', 0.8209801912307739)]"
      ]
     },
     "execution_count": 31,
     "metadata": {},
     "output_type": "execute_result"
    }
   ],
   "source": [
    "model.most_similar(positive=[u'监督管理'], negative=[u'278'])"
   ]
  },
  {
   "cell_type": "code",
   "execution_count": 81,
   "metadata": {},
   "outputs": [
    {
     "name": "stdout",
     "output_type": "stream",
     "text": [
      "墨思 0.9917359352111816\n",
      "迪克 0.9903830885887146\n",
      "海航 0.9885764122009277\n",
      "翔 0.9851623177528381\n",
      "联想 0.9830206036567688\n",
      "控股 0.9820088744163513\n",
      "爱施德 0.9819508790969849\n",
      "通达 0.9809750318527222\n",
      "通联 0.9787712097167969\n",
      "思 0.9786902666091919\n"
     ]
    },
    {
     "name": "stderr",
     "output_type": "stream",
     "text": [
      "C:\\Users\\ASUS\\Anaconda3\\lib\\site-packages\\ipykernel_launcher.py:1: DeprecationWarning: Call to deprecated `most_similar` (Method will be removed in 4.0.0, use self.wv.most_similar() instead).\n",
      "  \"\"\"Entry point for launching an IPython kernel.\n"
     ]
    }
   ],
   "source": [
    "for element in model.most_similar(u\"北京\"):\n",
    "    print(element[0], element[1])"
   ]
  },
  {
   "cell_type": "code",
   "execution_count": 117,
   "metadata": {},
   "outputs": [
    {
     "name": "stderr",
     "output_type": "stream",
     "text": [
      "C:\\Users\\ASUS\\Anaconda3\\lib\\site-packages\\ipykernel_launcher.py:1: DeprecationWarning: Call to deprecated `most_similar` (Method will be removed in 4.0.0, use self.wv.most_similar() instead).\n",
      "  \"\"\"Entry point for launching an IPython kernel.\n"
     ]
    },
    {
     "data": {
      "text/plain": [
       "[('44', 0.6047744154930115),\n",
       " ('8036', 0.5889052152633667),\n",
       " ('106', 0.561453104019165),\n",
       " ('服务质量', 0.5505120754241943),\n",
       " ('本届', 0.5236616134643555),\n",
       " ('3914', 0.49896878004074097),\n",
       " ('71', 0.46997731924057007),\n",
       " ('5645', 0.4616674780845642),\n",
       " ('职称', 0.4490174353122711),\n",
       " ('2547', 0.43393969535827637)]"
      ]
     },
     "execution_count": 117,
     "metadata": {},
     "output_type": "execute_result"
    }
   ],
   "source": [
    "model.most_similar(positive=[u'农业'], negative=[u'投资'])"
   ]
  },
  {
   "cell_type": "markdown",
   "metadata": {},
   "source": [
    "> ## Model 1"
   ]
  },
  {
   "cell_type": "code",
   "execution_count": 120,
   "metadata": {},
   "outputs": [],
   "source": [
    "num_feat = 300\n",
    "min_word_count = 1\n",
    "num_workers = multiprocessing.cpu_count()\n",
    "context_size = 9\n",
    "downsampling = 1e-3\n",
    "seed = 1\n",
    "\n",
    "MIIT_w2v = w2v(sg=1,\n",
    "                   seed=seed,\n",
    "                   workers=num_workers,\n",
    "                   size=num_feat,\n",
    "                   min_count=min_word_count,\n",
    "                   window=context_size,\n",
    "                   sample=downsampling)"
   ]
  },
  {
   "cell_type": "code",
   "execution_count": 121,
   "metadata": {},
   "outputs": [
    {
     "name": "stderr",
     "output_type": "stream",
     "text": [
      "C:\\Users\\ASUS\\Anaconda3\\lib\\site-packages\\ipykernel_launcher.py:2: DeprecationWarning: Call to deprecated `iter` (Attribute will be removed in 4.0.0, use self.epochs instead).\n",
      "  \n"
     ]
    },
    {
     "data": {
      "text/plain": [
       "(357941, 484200)"
      ]
     },
     "execution_count": 121,
     "metadata": {},
     "output_type": "execute_result"
    }
   ],
   "source": [
    "MIIT_w2v.build_vocab(sentences)  # prepare the model vocabulary\n",
    "MIIT_w2v.train(sentences, total_examples=MIIT_w2v.corpus_count, epochs=MIIT_w2v.iter)  # train word vectors\n"
   ]
  },
  {
   "cell_type": "code",
   "execution_count": 122,
   "metadata": {},
   "outputs": [
    {
     "name": "stdout",
     "output_type": "stream",
     "text": [
      "认证 0.8673300743103027\n",
      "服务 0.7870732545852661\n",
      "基金 0.7813489437103271\n",
      "数字证书 0.7507858872413635\n",
      "中介 0.7415686845779419\n",
      "招标 0.7349406480789185\n",
      "行政许可 0.7341305017471313\n",
      "备选 0.7301815152168274\n",
      "信息技术 0.7289204597473145\n",
      "审计 0.7241113781929016\n"
     ]
    },
    {
     "name": "stderr",
     "output_type": "stream",
     "text": [
      "C:\\Users\\ASUS\\Anaconda3\\lib\\site-packages\\ipykernel_launcher.py:1: DeprecationWarning: Call to deprecated `most_similar` (Method will be removed in 4.0.0, use self.wv.most_similar() instead).\n",
      "  \"\"\"Entry point for launching an IPython kernel.\n"
     ]
    }
   ],
   "source": [
    "for element in MIIT_w2v.most_similar(u\"电子\"):\n",
    "    print(element[0], element[1])"
   ]
  },
  {
   "cell_type": "code",
   "execution_count": 123,
   "metadata": {},
   "outputs": [
    {
     "name": "stderr",
     "output_type": "stream",
     "text": [
      "C:\\Users\\ASUS\\Anaconda3\\lib\\site-packages\\ipykernel_launcher.py:1: DeprecationWarning: Call to deprecated `most_similar` (Method will be removed in 4.0.0, use self.wv.most_similar() instead).\n",
      "  \"\"\"Entry point for launching an IPython kernel.\n"
     ]
    },
    {
     "data": {
      "text/plain": [
       "[('委员会', 0.6853451728820801),\n",
       " ('政协', 0.5866213440895081),\n",
       " ('全国', 0.5794105529785156),\n",
       " ('第四次', 0.5792568325996399),\n",
       " ('第十二届', 0.5707158446311951),\n",
       " ('第五次', 0.541632890701294),\n",
       " ('情况通报', 0.5411391258239746),\n",
       " ('标准化', 0.5340793132781982),\n",
       " ('号', 0.5334028005599976),\n",
       " ('共建', 0.5332569479942322)]"
      ]
     },
     "execution_count": 123,
     "metadata": {},
     "output_type": "execute_result"
    }
   ],
   "source": [
    "MIIT_w2v.most_similar(positive=[u'农业'], negative=[u'投资'])"
   ]
  },
  {
   "cell_type": "markdown",
   "metadata": {},
   "source": [
    "### Save the model to memory"
   ]
  },
  {
   "cell_type": "code",
   "execution_count": 124,
   "metadata": {},
   "outputs": [],
   "source": [
    "if not os.path.exists(\"trained\"):\n",
    "    os.makedirs(\"trained\")"
   ]
  },
  {
   "cell_type": "code",
   "execution_count": 125,
   "metadata": {},
   "outputs": [],
   "source": [
    "MIIT_w2v.save(os.path.join(\"trained\",\"MIIT.w2v\"))"
   ]
  },
  {
   "cell_type": "markdown",
   "metadata": {},
   "source": [
    "# RELOAD THE MODEL FOR LATER USE (Restart here)"
   ]
  },
  {
   "cell_type": "code",
   "execution_count": 12,
   "metadata": {},
   "outputs": [],
   "source": [
    "MIIT_w2v = w2v.load(os.path.join(\"../ASUS/Desktop/Thesis/trained\", \"MIIT.w2v\"))"
   ]
  },
  {
   "cell_type": "code",
   "execution_count": 74,
   "metadata": {},
   "outputs": [],
   "source": [
    "# code Source: https://www.machinelearningplus.com/nlp/topic-modeling-gensim-python/\n",
    "\n",
    "# Create Dictionary\n",
    "id2word = corpora.Dictionary(sentences)\n",
    "dictionary = Dictionary(sentences)\n",
    "# Create Corpus\n",
    "texts = sentences\n",
    "\n",
    "# Term Document Frequency\n",
    "corpus = [id2word.doc2bow(text) for text in texts]\n",
    "lda_model = gensim.models.ldamodel.LdaModel(corpus=corpus,\n",
    "                                           id2word=id2word,\n",
    "                                           num_topics=5, \n",
    "                                           random_state=100,\n",
    "                                           update_every=1,\n",
    "                                           chunksize=100,\n",
    "                                           passes=10,\n",
    "                                           alpha='auto',\n",
    "                                           per_word_topics=True,\n",
    "                                           minimum_probability=0.0)"
   ]
  },
  {
   "cell_type": "code",
   "execution_count": 11,
   "metadata": {},
   "outputs": [
    {
     "name": "stdout",
     "output_type": "stream",
     "text": [
      "2025 0.808061957359314\n",
      "， 0.7938441038131714\n",
      "成效 0.7683784365653992\n",
      "郑州 0.7640379667282104\n",
      "增长 0.7637761235237122\n",
      "船舶工业 0.7612121105194092\n",
      "解答 0.7602002620697021\n",
      "增材 0.7597740888595581\n",
      "金融 0.7581577301025391\n",
      "基金 0.7567598819732666\n"
     ]
    },
    {
     "name": "stderr",
     "output_type": "stream",
     "text": [
      "C:\\Users\\ASUS\\Anaconda3\\lib\\site-packages\\ipykernel_launcher.py:1: DeprecationWarning: Call to deprecated `most_similar` (Method will be removed in 4.0.0, use self.wv.most_similar() instead).\n",
      "  \"\"\"Entry point for launching an IPython kernel.\n"
     ]
    }
   ],
   "source": [
    "for element in MIIT_w2v.most_similar(u\"中国\"): # notice that 2025 is the closest to 中国， which means \n",
    "    print(element[0], element[1])              # most similar associates with the closest in proximity to the input."
   ]
  },
  {
   "cell_type": "code",
   "execution_count": 16,
   "metadata": {},
   "outputs": [
    {
     "name": "stdout",
     "output_type": "stream",
     "text": [
      "Topic: 1 \n",
      "Words: ['公示', '名单', '企业']\n",
      "Topic: 2 \n",
      "Words: ['通知', '2017', '2018']\n",
      "Topic: 3 \n",
      "Words: ['生产', '公告', '企业']\n",
      "Topic: 4 \n",
      "Words: ['项', '公开', '技术']\n",
      "Topic: 5 \n",
      "Words: ['工业', '信息化', '部']\n"
     ]
    }
   ],
   "source": [
    "# Print the Keyword in the 10 topics, chunksize = 10\n",
    "doc_lda = lda_model[corpus]\n",
    "lda_model.print_topics()\n",
    "\n",
    "for index, topic in lda_model.show_topics(formatted=False, num_words= 3):\n",
    "    print('Topic: {} \\nWords: {}'.format(index+1, [w[0] for w in topic]))"
   ]
  },
  {
   "cell_type": "markdown",
   "metadata": {},
   "source": [
    "> ## How to interpret this? It means the top 10 keywords that contribute to this topic are: ‘car’, ‘power’, ‘light’.. and so on and the weight of ‘car’ on topic 0 is 0.016.\n",
    "\n",
    "> * The weights reflect how important a keyword is to that topic.\n",
    "\n",
    "> * Looking at these keywords, can you guess what this topic could be? You may summarise it either are ‘cars’ or ‘automobiles’\n",
    "\n",
    "> ## Topic 0: publicize internet readings and conditions"
   ]
  },
  {
   "cell_type": "markdown",
   "metadata": {},
   "source": [
    "## Step 4: Compute Model Perplexity and Coherence Score"
   ]
  },
  {
   "cell_type": "code",
   "execution_count": 161,
   "metadata": {},
   "outputs": [
    {
     "name": "stdout",
     "output_type": "stream",
     "text": [
      "\n",
      "Perplexity:  -17.9544409515363\n",
      "\n",
      "Coherence Score:  0.3824649991769483\n"
     ]
    }
   ],
   "source": [
    "# Compute Perplexity\n",
    "print('\\nPerplexity: ', lda_model.log_perplexity(corpus))  # a measure of how good the model is. lower the better.\n",
    "\n",
    "# Compute Coherence Score\n",
    "coherence_model_lda = CoherenceModel(model=lda_model, texts=sentences, dictionary=id2word, coherence='c_v')\n",
    "coherence_lda = coherence_model_lda.get_coherence()\n",
    "print('\\nCoherence Score: ', coherence_lda)"
   ]
  },
  {
   "cell_type": "markdown",
   "metadata": {},
   "source": [
    "##  Step 5: Generalizing with input into the model\n",
    "> * Each input post will be distributed over the 5 topics \n",
    "> * Then we can assign the bucket # to the post as a new feature\n",
    "> * Question: how can we make each topic into \"industries?\" and then allow each input post to categorize into each Industry, Theme, and shit?"
   ]
  },
  {
   "cell_type": "code",
   "execution_count": 125,
   "metadata": {},
   "outputs": [
    {
     "data": {
      "text/plain": [
       "0    0.060920\n",
       "1    0.087503\n",
       "2    0.052136\n",
       "3    0.240118\n",
       "4    0.559323\n",
       "Name: 1, dtype: float64"
      ]
     },
     "execution_count": 125,
     "metadata": {},
     "output_type": "execute_result"
    }
   ],
   "source": [
    "from pandas import DataFrame\n",
    "\n",
    "other_texts = [\n",
    "    #get_chinese_words(raw_input)\n",
    "     sentences[2] \n",
    "]\n",
    "\n",
    "#corpus = [ dictionary.doc2bow(corpus) for text in corpus]\n",
    "other_corpus = [dictionary.doc2bow(text) for text in other_texts]\n",
    "unseen_doc = other_corpus[0]\n",
    "vector = lda_model[unseen_doc][0]\n",
    "DataFrame.from_records(vector)[1]"
   ]
  },
  {
   "cell_type": "markdown",
   "metadata": {},
   "source": [
    "# THE KEY TO CONNECTING TO THE INDEX!!!"
   ]
  },
  {
   "cell_type": "markdown",
   "metadata": {},
   "source": [
    "###   Merge the group topics into the main dataset"
   ]
  },
  {
   "cell_type": "code",
   "execution_count": 193,
   "metadata": {},
   "outputs": [],
   "source": [
    "buckets = []\n",
    "for i in df.title:\n",
    "    buckets.append(get_topic_distribution(lda_model,i,dictionary))\n",
    "groups= []\n",
    "for i in range(0,len(buckets)):\n",
    "    groups.append(pd.Series.to_frame((buckets[i])).T)\n",
    "\n",
    "groups = pd.concat(groups).reset_index()\n",
    "DATA = pd.concat([df, groups], axis=1)\n",
    "\n"
   ]
  },
  {
   "cell_type": "code",
   "execution_count": 194,
   "metadata": {},
   "outputs": [
    {
     "data": {
      "text/html": [
       "<div>\n",
       "<style scoped>\n",
       "    .dataframe tbody tr th:only-of-type {\n",
       "        vertical-align: middle;\n",
       "    }\n",
       "\n",
       "    .dataframe tbody tr th {\n",
       "        vertical-align: top;\n",
       "    }\n",
       "\n",
       "    .dataframe thead th {\n",
       "        text-align: right;\n",
       "    }\n",
       "</style>\n",
       "<table border=\"1\" class=\"dataframe\">\n",
       "  <thead>\n",
       "    <tr style=\"text-align: right;\">\n",
       "      <th></th>\n",
       "      <th>date</th>\n",
       "      <th>url</th>\n",
       "      <th>title</th>\n",
       "      <th>n1146295</th>\n",
       "      <th>n1652858</th>\n",
       "      <th>n1652930</th>\n",
       "      <th>n3757016</th>\n",
       "      <th>n4509650</th>\n",
       "      <th>n3757022</th>\n",
       "      <th>n4509627</th>\n",
       "      <th>...</th>\n",
       "      <th>weekdays</th>\n",
       "      <th>QTR</th>\n",
       "      <th>doc_release</th>\n",
       "      <th>policy_explained</th>\n",
       "      <th>index</th>\n",
       "      <th>0</th>\n",
       "      <th>1</th>\n",
       "      <th>2</th>\n",
       "      <th>3</th>\n",
       "      <th>4</th>\n",
       "    </tr>\n",
       "  </thead>\n",
       "  <tbody>\n",
       "    <tr>\n",
       "      <th>0</th>\n",
       "      <td>2002-05-24</td>\n",
       "      <td>http://www.miit.gov.cn/n1146295/n1652858/n1653...</td>\n",
       "      <td>集成电路设计企业及产品认定管理办法问答</td>\n",
       "      <td>0.014273</td>\n",
       "      <td>0.042387</td>\n",
       "      <td>0.0</td>\n",
       "      <td>0.0</td>\n",
       "      <td>0.0</td>\n",
       "      <td>0.0</td>\n",
       "      <td>0.0</td>\n",
       "      <td>...</td>\n",
       "      <td>5</td>\n",
       "      <td>2</td>\n",
       "      <td>0</td>\n",
       "      <td>1</td>\n",
       "      <td>1</td>\n",
       "      <td>0.244514</td>\n",
       "      <td>0.258259</td>\n",
       "      <td>0.183270</td>\n",
       "      <td>0.264527</td>\n",
       "      <td>0.049430</td>\n",
       "    </tr>\n",
       "    <tr>\n",
       "      <th>1</th>\n",
       "      <td>2002-05-24</td>\n",
       "      <td>http://www.miit.gov.cn/n1146295/n1652858/n1653...</td>\n",
       "      <td>集成电路设计企业及产品认定管理办法问答</td>\n",
       "      <td>0.014273</td>\n",
       "      <td>0.042387</td>\n",
       "      <td>0.0</td>\n",
       "      <td>0.0</td>\n",
       "      <td>0.0</td>\n",
       "      <td>0.0</td>\n",
       "      <td>0.0</td>\n",
       "      <td>...</td>\n",
       "      <td>5</td>\n",
       "      <td>2</td>\n",
       "      <td>0</td>\n",
       "      <td>1</td>\n",
       "      <td>1</td>\n",
       "      <td>0.244085</td>\n",
       "      <td>0.258251</td>\n",
       "      <td>0.183436</td>\n",
       "      <td>0.264797</td>\n",
       "      <td>0.049431</td>\n",
       "    </tr>\n",
       "    <tr>\n",
       "      <th>2</th>\n",
       "      <td>2003-03-20</td>\n",
       "      <td>http://www.miit.gov.cn/n1146295/n1652858/n1653...</td>\n",
       "      <td>苏金生局长就重新调整《电信业务分类目录》答记者问</td>\n",
       "      <td>0.014273</td>\n",
       "      <td>0.042387</td>\n",
       "      <td>0.0</td>\n",
       "      <td>0.0</td>\n",
       "      <td>0.0</td>\n",
       "      <td>0.0</td>\n",
       "      <td>0.0</td>\n",
       "      <td>...</td>\n",
       "      <td>4</td>\n",
       "      <td>1</td>\n",
       "      <td>0</td>\n",
       "      <td>1</td>\n",
       "      <td>1</td>\n",
       "      <td>0.060951</td>\n",
       "      <td>0.087558</td>\n",
       "      <td>0.052136</td>\n",
       "      <td>0.240087</td>\n",
       "      <td>0.559268</td>\n",
       "    </tr>\n",
       "    <tr>\n",
       "      <th>3</th>\n",
       "      <td>2003-03-20</td>\n",
       "      <td>http://www.miit.gov.cn/n1146295/n1652858/n1653...</td>\n",
       "      <td>苏金生局长就重新调整《电信业务分类目录》答记者问</td>\n",
       "      <td>0.014273</td>\n",
       "      <td>0.042387</td>\n",
       "      <td>0.0</td>\n",
       "      <td>0.0</td>\n",
       "      <td>0.0</td>\n",
       "      <td>0.0</td>\n",
       "      <td>0.0</td>\n",
       "      <td>...</td>\n",
       "      <td>4</td>\n",
       "      <td>1</td>\n",
       "      <td>0</td>\n",
       "      <td>1</td>\n",
       "      <td>1</td>\n",
       "      <td>0.060922</td>\n",
       "      <td>0.087500</td>\n",
       "      <td>0.052136</td>\n",
       "      <td>0.240120</td>\n",
       "      <td>0.559322</td>\n",
       "    </tr>\n",
       "    <tr>\n",
       "      <th>4</th>\n",
       "      <td>2004-02-24</td>\n",
       "      <td>http://www.miit.gov.cn/n1146295/n1652858/n1653...</td>\n",
       "      <td>彭晓芳副司长解读电信资费监管思路　积极稳妥推进资费改革</td>\n",
       "      <td>0.014273</td>\n",
       "      <td>0.042387</td>\n",
       "      <td>0.0</td>\n",
       "      <td>0.0</td>\n",
       "      <td>0.0</td>\n",
       "      <td>0.0</td>\n",
       "      <td>0.0</td>\n",
       "      <td>...</td>\n",
       "      <td>2</td>\n",
       "      <td>1</td>\n",
       "      <td>0</td>\n",
       "      <td>1</td>\n",
       "      <td>1</td>\n",
       "      <td>0.038291</td>\n",
       "      <td>0.049917</td>\n",
       "      <td>0.033300</td>\n",
       "      <td>0.647965</td>\n",
       "      <td>0.230528</td>\n",
       "    </tr>\n",
       "  </tbody>\n",
       "</table>\n",
       "<p>5 rows × 48 columns</p>\n",
       "</div>"
      ],
      "text/plain": [
       "         date                                                url  \\\n",
       "0  2002-05-24  http://www.miit.gov.cn/n1146295/n1652858/n1653...   \n",
       "1  2002-05-24  http://www.miit.gov.cn/n1146295/n1652858/n1653...   \n",
       "2  2003-03-20  http://www.miit.gov.cn/n1146295/n1652858/n1653...   \n",
       "3  2003-03-20  http://www.miit.gov.cn/n1146295/n1652858/n1653...   \n",
       "4  2004-02-24  http://www.miit.gov.cn/n1146295/n1652858/n1653...   \n",
       "\n",
       "                         title  n1146295  n1652858  n1652930  n3757016  \\\n",
       "0          集成电路设计企业及产品认定管理办法问答  0.014273  0.042387       0.0       0.0   \n",
       "1          集成电路设计企业及产品认定管理办法问答  0.014273  0.042387       0.0       0.0   \n",
       "2     苏金生局长就重新调整《电信业务分类目录》答记者问  0.014273  0.042387       0.0       0.0   \n",
       "3     苏金生局长就重新调整《电信业务分类目录》答记者问  0.014273  0.042387       0.0       0.0   \n",
       "4  彭晓芳副司长解读电信资费监管思路　积极稳妥推进资费改革  0.014273  0.042387       0.0       0.0   \n",
       "\n",
       "   n4509650  n3757022  n4509627    ...     weekdays  QTR  doc_release  \\\n",
       "0       0.0       0.0       0.0    ...            5    2            0   \n",
       "1       0.0       0.0       0.0    ...            5    2            0   \n",
       "2       0.0       0.0       0.0    ...            4    1            0   \n",
       "3       0.0       0.0       0.0    ...            4    1            0   \n",
       "4       0.0       0.0       0.0    ...            2    1            0   \n",
       "\n",
       "   policy_explained  index         0         1         2         3         4  \n",
       "0                 1      1  0.244514  0.258259  0.183270  0.264527  0.049430  \n",
       "1                 1      1  0.244085  0.258251  0.183436  0.264797  0.049431  \n",
       "2                 1      1  0.060951  0.087558  0.052136  0.240087  0.559268  \n",
       "3                 1      1  0.060922  0.087500  0.052136  0.240120  0.559322  \n",
       "4                 1      1  0.038291  0.049917  0.033300  0.647965  0.230528  \n",
       "\n",
       "[5 rows x 48 columns]"
      ]
     },
     "execution_count": 194,
     "metadata": {},
     "output_type": "execute_result"
    }
   ],
   "source": [
    "DATA.head()"
   ]
  },
  {
   "cell_type": "code",
   "execution_count": 169,
   "metadata": {},
   "outputs": [
    {
     "name": "stderr",
     "output_type": "stream",
     "text": [
      "C:\\Users\\ASUS\\Anaconda3\\lib\\site-packages\\pyLDAvis\\_prepare.py:257: FutureWarning: Sorting because non-concatenation axis is not aligned. A future version\n",
      "of pandas will change to not sort by default.\n",
      "\n",
      "To accept the future behavior, pass 'sort=False'.\n",
      "\n",
      "To retain the current behavior and silence the warning, pass 'sort=True'.\n",
      "\n",
      "  return pd.concat([default_term_info] + list(topic_dfs))\n"
     ]
    },
    {
     "data": {
      "text/html": [
       "\n",
       "<link rel=\"stylesheet\" type=\"text/css\" href=\"https://cdn.rawgit.com/bmabey/pyLDAvis/files/ldavis.v1.0.0.css\">\n",
       "\n",
       "\n",
       "<div id=\"ldavis_el875625520027234168652747721\"></div>\n",
       "<script type=\"text/javascript\">\n",
       "\n",
       "var ldavis_el875625520027234168652747721_data = {\"mdsDat\": {\"x\": [0.05160072200928764, -0.22625471816136158, 0.11745775788877653, 0.29289839891701075, -0.23570216065371383], \"y\": [-0.38153177327679677, -0.0009191253836335428, 0.0695055714928637, 0.1609481453757367, 0.15199718179183003], \"topics\": [1, 2, 3, 4, 5], \"cluster\": [1, 1, 1, 1, 1], \"Freq\": [22.917634963989258, 22.41773796081543, 18.735746383666992, 18.228614807128906, 17.70026969909668]}, \"tinfo\": {\"Category\": [\"Default\", \"Default\", \"Default\", \"Default\", \"Default\", \"Default\", \"Default\", \"Default\", \"Default\", \"Default\", \"Default\", \"Default\", \"Default\", \"Default\", \"Default\", \"Default\", \"Default\", \"Default\", \"Default\", \"Default\", \"Default\", \"Default\", \"Default\", \"Default\", \"Default\", \"Default\", \"Default\", \"Default\", \"Default\", \"Default\", \"Topic1\", \"Topic1\", \"Topic1\", \"Topic1\", \"Topic1\", \"Topic1\", \"Topic1\", \"Topic1\", \"Topic1\", \"Topic1\", \"Topic1\", \"Topic1\", \"Topic1\", \"Topic1\", \"Topic1\", \"Topic1\", \"Topic1\", \"Topic1\", \"Topic1\", \"Topic1\", \"Topic1\", \"Topic1\", \"Topic1\", \"Topic1\", \"Topic1\", \"Topic1\", \"Topic1\", \"Topic1\", \"Topic1\", \"Topic1\", \"Topic1\", \"Topic1\", \"Topic1\", \"Topic2\", \"Topic2\", \"Topic2\", \"Topic2\", \"Topic2\", \"Topic2\", \"Topic2\", \"Topic2\", \"Topic2\", \"Topic2\", \"Topic2\", \"Topic2\", \"Topic2\", \"Topic2\", \"Topic2\", \"Topic2\", \"Topic2\", \"Topic2\", \"Topic2\", \"Topic2\", \"Topic2\", \"Topic2\", \"Topic2\", \"Topic2\", \"Topic2\", \"Topic2\", \"Topic2\", \"Topic2\", \"Topic2\", \"Topic2\", \"Topic2\", \"Topic2\", \"Topic3\", \"Topic3\", \"Topic3\", \"Topic3\", \"Topic3\", \"Topic3\", \"Topic3\", \"Topic3\", \"Topic3\", \"Topic3\", \"Topic3\", \"Topic3\", \"Topic3\", \"Topic3\", \"Topic3\", \"Topic3\", \"Topic3\", \"Topic3\", \"Topic3\", \"Topic3\", \"Topic3\", \"Topic3\", \"Topic3\", \"Topic3\", \"Topic3\", \"Topic3\", \"Topic3\", \"Topic3\", \"Topic3\", \"Topic3\", \"Topic3\", \"Topic3\", \"Topic3\", \"Topic3\", \"Topic4\", \"Topic4\", \"Topic4\", \"Topic4\", \"Topic4\", \"Topic4\", \"Topic4\", \"Topic4\", \"Topic4\", \"Topic4\", \"Topic4\", \"Topic4\", \"Topic4\", \"Topic4\", \"Topic4\", \"Topic4\", \"Topic4\", \"Topic4\", \"Topic4\", \"Topic4\", \"Topic4\", \"Topic4\", \"Topic4\", \"Topic4\", \"Topic4\", \"Topic4\", \"Topic4\", \"Topic4\", \"Topic4\", \"Topic4\", \"Topic4\", \"Topic4\", \"Topic4\", \"Topic4\", \"Topic5\", \"Topic5\", \"Topic5\", \"Topic5\", \"Topic5\", \"Topic5\", \"Topic5\", \"Topic5\", \"Topic5\", \"Topic5\", \"Topic5\", \"Topic5\", \"Topic5\", \"Topic5\", \"Topic5\", \"Topic5\", \"Topic5\", \"Topic5\", \"Topic5\", \"Topic5\", \"Topic5\", \"Topic5\", \"Topic5\", \"Topic5\", \"Topic5\", \"Topic5\", \"Topic5\", \"Topic5\", \"Topic5\", \"Topic5\", \"Topic5\"], \"Freq\": [4632.0, 3653.0, 3483.0, 1846.0, 1495.0, 1501.0, 1155.0, 1278.0, 1077.0, 993.0, 968.0, 2089.0, 947.0, 1031.0, 1028.0, 830.0, 928.0, 781.0, 770.0, 853.0, 723.0, 755.0, 654.0, 653.0, 729.0, 648.0, 623.0, 619.0, 608.0, 573.0, 4631.77734375, 3652.34375, 3483.038818359375, 1277.6572265625, 927.624755859375, 268.6830139160156, 256.51226806640625, 200.32962036132812, 134.1474609375, 128.21241760253906, 128.03228759765625, 125.6714096069336, 317.0494079589844, 110.71054077148438, 110.97105407714844, 111.21372985839844, 111.53424835205078, 108.0575180053711, 98.48429107666016, 97.22039794921875, 97.15525817871094, 88.70321655273438, 87.54534912109375, 80.21522521972656, 76.0151138305664, 75.49127960205078, 75.64752197265625, 75.46656799316406, 73.8127212524414, 74.13053894042969, 94.6955337524414, 222.90878295898438, 183.71324157714844, 1500.2606201171875, 1027.5010986328125, 853.1720581054688, 754.5963134765625, 728.555419921875, 1030.814208984375, 642.105712890625, 600.9114379882812, 495.1142272949219, 494.2845458984375, 444.22100830078125, 449.5456848144531, 418.3929138183594, 411.8931579589844, 329.53350830078125, 311.84100341796875, 309.17620849609375, 309.6446838378906, 285.6165771484375, 276.6900329589844, 261.3528747558594, 215.04367065429688, 181.50343322753906, 177.5185546875, 180.953857421875, 179.05291748046875, 171.31381225585938, 162.69935607910156, 176.74224853515625, 154.2584686279297, 184.54263305664062, 205.24020385742188, 1845.7171630859375, 993.0208129882812, 648.1423950195312, 619.030517578125, 525.0737915039062, 476.2766418457031, 399.64471435546875, 398.2329406738281, 354.86810302734375, 340.6351318359375, 288.3004150390625, 288.2492370605469, 278.60784912109375, 279.3426208496094, 235.32748413085938, 181.17227172851562, 156.5487823486328, 161.5509796142578, 150.3307342529297, 152.78282165527344, 142.19873046875, 141.62802124023438, 141.24708557128906, 137.61090087890625, 134.48724365234375, 125.97835540771484, 123.24061584472656, 119.42249298095703, 126.68594360351562, 121.34918212890625, 469.8910217285156, 805.5037841796875, 174.51223754882812, 127.40167236328125, 1494.8797607421875, 1155.0562744140625, 1076.6849365234375, 967.4879760742188, 780.2529907226562, 769.8876953125, 722.8704833984375, 653.930419921875, 653.0448608398438, 622.7711181640625, 607.53564453125, 490.3231506347656, 455.3011474609375, 413.5651550292969, 346.7054138183594, 298.2478332519531, 279.13934326171875, 258.69854736328125, 207.0391387939453, 197.86471557617188, 171.14877319335938, 186.60313415527344, 117.38799285888672, 106.91026306152344, 81.6371078491211, 81.46748352050781, 78.41017150878906, 75.87125396728516, 67.80447387695312, 66.53914642333984, 302.6083679199219, 1100.2108154296875, 356.2481689453125, 87.48900604248047, 946.4326171875, 829.9075317382812, 572.82861328125, 505.3773193359375, 503.71331787109375, 474.7796936035156, 460.92486572265625, 393.2694396972656, 385.4258117675781, 380.25341796875, 383.91461181640625, 357.283203125, 348.08380126953125, 291.2281188964844, 282.1866760253906, 266.8580322265625, 253.06790161132812, 336.09979248046875, 186.21629333496094, 189.87997436523438, 166.03115844726562, 153.10955810546875, 149.29598999023438, 137.62295532226562, 135.1123046875, 123.56779479980469, 127.61058044433594, 125.91915130615234, 117.84586334228516, 114.42955780029297, 243.77813720703125], \"Term\": [\"\\u5de5\\u4e1a\", \"\\u4fe1\\u606f\\u5316\", \"\\u90e8\", \"\\u516c\\u793a\", \"\\u751f\\u4ea7\", \"\\u901a\\u77e5\", \"\\u516c\\u544a\", \"\\u529e\\u516c\\u5385\", \"\\u53f7\", \"\\u540d\\u5355\", \"\\u4ea7\\u54c1\", \"\\u4f01\\u4e1a\", \"\\u9879\", \"2017\", \"2018\", \"\\u516c\\u5f00\", \"\\u5370\\u53d1\", \"\\u9053\\u8def\", \"\\u673a\\u52a8\\u8f66\\u8f86\", \"\\u610f\\u89c1\", \"\\u8f66\\u8f86\", \"\\u53d1\\u5c55\", \"\\u7b54\\u590d\", \"\\u62df\", \"\\u9879\\u76ee\", \"\\u5f00\\u5c55\", \"\\u5341\\u4e8c\\u5c4a\", \"\\u90e8\\u95e8\", \"\\u4f1a\\u8bae\", \"\\u6280\\u672f\", \"\\u5de5\\u4e1a\", \"\\u4fe1\\u606f\\u5316\", \"\\u90e8\", \"\\u529e\\u516c\\u5385\", \"\\u5370\\u53d1\", \"\\u6307\\u5bfc\", \"\\u4e2d\\u5c0f\\u4f01\\u4e1a\", \"\\u901a\\u544a\", \"\\u7ecf\\u8425\", \"\\u5347\\u7ea7\", \"\\u6c11\\u7528\", \"\\u7eff\\u8272\", \"22\", \"\\u4e1a\\u52a1\", \"\\u5b9e\\u65bd\", \"\\u57f9\\u80b2\", \"\\u6280\\u672f\\u88c5\\u5907\", \"\\u7535\\u4fe1\\u4e1a\\u52a1\", \"\\u7535\\u4fe1\", \"\\u4fc3\\u8fdb\", \"\\u8bb8\\u53ef\", \"\\u884c\\u52a8\", \"\\u8f6c\\u552e\", \"\\u589e\\u503c\", \"\\u6ce8\\u9500\", \"\\u8de8\\u5730\\u533a\", \"\\u7269\\u54c1\", \"\\u7206\\u70b8\", \"\\u5b9e\\u65bd\\u65b9\\u6848\", \"\\u6218\\u7565\", \"\\u73af\\u4fdd\", \"\\u8bd5\\u70b9\", \"\\u4f01\\u4e1a\", \"\\u901a\\u77e5\", \"2018\", \"\\u610f\\u89c1\", \"\\u53d1\\u5c55\", \"\\u9879\\u76ee\", \"2017\", \"\\u793a\\u8303\", \"\\u56fd\\u5bb6\", \"\\u5de5\\u4f5c\", \"\\u8ba1\\u5212\", \"2016\", \"\\u5168\\u56fd\", \"\\u5236\\u9020\", \"\\u4ea7\\u4e1a\", \"\\u5e73\\u53f0\", \"\\u884c\\u52a8\\u8ba1\\u5212\", \"2020\", \"\\u5e74\\u5ea6\", \"\\u5236\\u9020\\u4e1a\", \"\\u5efa\\u8bbe\", \"\\u7ec4\\u7ec7\", \"\\u667a\\u80fd\", \"\\u521b\\u65b0\", \"\\uff0d\", \"\\u91cd\\u70b9\", \"\\u4fee\\u8ba2\", \"\\u60c5\\u51b5\", \"\\u878d\\u5408\", \"\\u79d1\\u6280\", \"\\u516c\\u5171\\u670d\\u52a1\", \"\\u63a8\\u8350\", \"\\u7533\\u62a5\", \"\\u516c\\u793a\", \"\\u540d\\u5355\", \"\\u5f00\\u5c55\", \"\\u90e8\\u95e8\", \"\\u4e92\\u8054\\u7f51\", \"\\u51fd\", \"\\u76ee\\u5f55\", \"\\u516c\\u5e03\", \"\\u65b0\\u80fd\\u6e90\", \"\\u7b2c\\u4e8c\\u6279\", \"\\u5907\\u6848\", \"\\u8bc4\\u4ef7\", \"\\u7b2c\\u4e00\\u6279\", \"\\u540c\\u610f\", \"\\u529e\\u6cd5\", \"\\u4fe1\\u606f\", \"\\u90e8\\u62df\", \"\\u6210\\u4e3a\", \"\\u670d\\u52a1\", \"\\u8d44\\u6e90\", \"\\u514d\\u5f81\", \"\\u8d2d\\u7f6e\\u7a0e\", \"\\u8f66\\u578b\", \"\\u6279\\u590d\", \"\\u4e2d\\u56fd\", \"\\u5148\\u8fdb\", \"\\u8282\\u80fd\", \"\\u66f4\\u540d\", \"\\u7f51\\u7edc\", \"\\u8d28\\u91cf\", \"\\u519c\\u836f\", \"\\u4f01\\u4e1a\", \"\\u7ba1\\u7406\", \"\\u8bd5\\u70b9\", \"\\u751f\\u4ea7\", \"\\u516c\\u544a\", \"\\u53f7\", \"\\u4ea7\\u54c1\", \"\\u9053\\u8def\", \"\\u673a\\u52a8\\u8f66\\u8f86\", \"\\u8f66\\u8f86\", \"\\u7b54\\u590d\", \"\\u62df\", \"\\u5341\\u4e8c\\u5c4a\", \"\\u4f1a\\u8bae\", \"\\u5efa\\u8bae\", \"\\u5168\\u56fd\\u4eba\\u5927\", \"\\u53d1\\u5e03\", \"\\u65b0\\u589e\", \"\\u6458\\u8981\", \"\\u65b0\\u4ea7\", \"\\u4e2d\\u534e\\u4eba\\u6c11\\u5171\\u548c\\u56fd\", \"\\u63d0\\u6848\", \"\\u653f\\u534f\", \"\\u6709\\u9650\\u516c\\u53f8\", \"\\u7b2c\\u4e94\\u6b21\", \"\\u8f66\", \"\\u5317\\u4eac\", \"\\u6279\\u51c6\", \"\\u8bc1\\u4e66\", \"\\u90ae\\u7535\", \"\\u5de5\\u4ea4\", \"\\u5e74\\u62df\", \"\\u9881\\u53d1\", \"311\", \"\\u4f01\\u4e1a\", \"\\u7533\\u62a5\", \"\\u4f01\\u4e1a\\u540d\\u5355\", \"\\u9879\", \"\\u516c\\u5f00\", \"\\u6280\\u672f\", \"\\u56fd\\u5bb6\\u6807\\u51c6\", \"\\u884c\\u4e1a\", \"\\u5f81\\u96c6\", \"\\u6761\\u4ef6\", \"\\u884c\\u4e1a\\u6807\\u51c6\", \"\\u89c4\\u8303\", \"\\u5f81\\u6c42\", \"\\u89e3\\u8bfb\", \"\\u5f3a\\u5236\\u6027\", \"\\u6c7d\\u8f66\", \"\\u5f81\\u6c42\\u610f\\u89c1\", \"\\u62a5\\u6279\", \"\\u7a3f\", \"\\u901a\\u4fe1\", \"\\u59d4\\u5458\\u4f1a\", \"\\u6807\\u51c6\", \"\\u6307\\u5357\", \"\\u5b89\\u5168\", \"\\u65b9\\u6848\", \"\\u7b26\\u5408\", \"\\u6807\\u51c6\\u5316\", \"\\u7b2c\\u4e09\\u6279\", \"\\u5316\\u5de5\", \"\\u5e94\\u7528\", \"\\u63a8\\u8fdb\", \"\\u88c5\\u5907\", \"\\u6750\\u6599\", \"\\u7ba1\\u7406\"], \"Total\": [4632.0, 3653.0, 3483.0, 1846.0, 1495.0, 1501.0, 1155.0, 1278.0, 1077.0, 993.0, 968.0, 2089.0, 947.0, 1031.0, 1028.0, 830.0, 928.0, 781.0, 770.0, 853.0, 723.0, 755.0, 654.0, 653.0, 729.0, 648.0, 623.0, 619.0, 608.0, 573.0, 4632.52978515625, 3653.094970703125, 3483.789306640625, 1278.409423828125, 928.38427734375, 269.4472961425781, 257.268310546875, 201.07875061035156, 134.8939971923828, 128.97207641601562, 128.79940795898438, 126.42803955078125, 319.0328674316406, 111.45580291748047, 111.72525024414062, 111.9696273803711, 112.29686737060547, 108.80240631103516, 99.22818756103516, 97.9723129272461, 97.97171020507812, 89.45354461669922, 88.28985595703125, 80.96049499511719, 76.76056671142578, 76.23548889160156, 76.40308380126953, 76.22225952148438, 74.56555938720703, 74.89167022705078, 95.97386932373047, 350.8091735839844, 2089.781005859375, 1501.026611328125, 1028.31396484375, 853.9600830078125, 755.3558349609375, 729.3279418945312, 1031.94482421875, 642.8660278320312, 601.6765747070312, 495.8774108886719, 495.0848693847656, 445.002685546875, 450.35882568359375, 419.15679931640625, 412.6518249511719, 330.2998046875, 312.6031188964844, 309.935791015625, 310.4091796875, 286.3869323730469, 277.4524841308594, 262.11541748046875, 215.8059539794922, 182.26173400878906, 178.27493286132812, 181.72850036621094, 179.83660888671875, 172.08331298828125, 163.4604034423828, 177.6042938232422, 155.0181121826172, 232.48007202148438, 562.1126098632812, 1846.4267578125, 993.7175903320312, 648.8646850585938, 619.7525024414062, 525.8001098632812, 476.9969177246094, 400.35260009765625, 398.9455871582031, 355.5789794921875, 341.3341979980469, 288.9917297363281, 288.96270751953125, 279.3055114746094, 280.04998779296875, 236.0397491455078, 181.8762664794922, 157.24053955078125, 162.28292846679688, 151.03770446777344, 153.51319885253906, 142.8948974609375, 142.32518005371094, 141.94287109375, 138.31195068359375, 135.196533203125, 126.68191528320312, 123.9486083984375, 120.11360931396484, 127.42790985107422, 122.06422424316406, 473.9416809082031, 2089.781005859375, 418.8380126953125, 350.8091735839844, 1495.6915283203125, 1155.869384765625, 1077.4896240234375, 968.3031616210938, 781.0580444335938, 770.691650390625, 723.6869506835938, 654.74072265625, 653.8732299804688, 623.5807495117188, 608.3396606445312, 491.13250732421875, 456.1077880859375, 414.3811340332031, 347.5069885253906, 299.0553283691406, 279.9670104980469, 259.52203369140625, 207.87060546875, 198.6968994140625, 171.9962615966797, 187.61378479003906, 118.30327606201172, 107.77777862548828, 82.43885040283203, 82.26927185058594, 79.28279113769531, 76.74571228027344, 68.61074829101562, 67.34124755859375, 347.07843017578125, 2089.781005859375, 562.1126098632812, 283.4842834472656, 947.225341796875, 830.707275390625, 573.6439208984375, 506.1699523925781, 504.5093688964844, 475.5781555175781, 461.71893310546875, 394.0645446777344, 386.2208251953125, 381.0475158691406, 384.7383728027344, 358.0800476074219, 348.8959655761719, 292.0207824707031, 282.97711181640625, 267.65106201171875, 253.86839294433594, 337.19927978515625, 187.0131072998047, 190.70286560058594, 166.8296356201172, 153.91053771972656, 150.0859375, 138.42437744140625, 135.93423461914062, 124.35860443115234, 128.43968200683594, 126.75952911376953, 118.64759826660156, 115.24773406982422, 418.8380126953125], \"loglift\": [30.0, 29.0, 28.0, 27.0, 26.0, 25.0, 24.0, 23.0, 22.0, 21.0, 20.0, 19.0, 18.0, 17.0, 16.0, 15.0, 14.0, 13.0, 12.0, 11.0, 10.0, 9.0, 8.0, 7.0, 6.0, 5.0, 4.0, 3.0, 2.0, 1.0, 1.473099946975708, 1.473099946975708, 1.4730000495910645, 1.4726999998092651, 1.4723999500274658, 1.4703999757766724, 1.4702999591827393, 1.469499945640564, 1.4677000045776367, 1.4673999547958374, 1.4673000574111938, 1.4673000574111938, 1.4670000076293945, 1.466599941253662, 1.4665000438690186, 1.4665000438690186, 1.4664000272750854, 1.4664000272750854, 1.4657000303268433, 1.4656000137329102, 1.464900016784668, 1.4648000001907349, 1.4648000001907349, 1.4639999866485596, 1.4635000228881836, 1.4635000228881836, 1.4632999897003174, 1.4632999897003174, 1.4630999565124512, 1.4630000591278076, 1.4599000215530396, 1.0197999477386475, -0.9581999778747559, 1.4947999715805054, 1.4945000410079956, 1.4944000244140625, 1.4943000078201294, 1.4943000078201294, 1.4941999912261963, 1.4940999746322632, 1.49399995803833, 1.4938000440597534, 1.4937000274658203, 1.4936000108718872, 1.493499994277954, 1.493499994277954, 1.493499994277954, 1.4930000305175781, 1.492900013923645, 1.492900013923645, 1.492900013923645, 1.4925999641418457, 1.4925999641418457, 1.492400050163269, 1.4917999505996704, 1.4910999536514282, 1.4910999536514282, 1.4910000562667847, 1.4910000562667847, 1.4908000230789185, 1.4907000064849854, 1.4904999732971191, 1.490399956703186, 1.2644000053405762, 0.4878000020980835, 1.674399971961975, 1.6740000247955322, 1.6735999584197998, 1.6735999584197998, 1.6734000444412231, 1.673200011253357, 1.6729999780654907, 1.6728999614715576, 1.672700047492981, 1.672700047492981, 1.6722999811172485, 1.6722999811172485, 1.6721999645233154, 1.6721999645233154, 1.6717000007629395, 1.6708999872207642, 1.670300006866455, 1.670199990272522, 1.6699999570846558, 1.6699999570846558, 1.6698999404907227, 1.669800043106079, 1.669800043106079, 1.669700026512146, 1.6694999933242798, 1.6691999435424805, 1.6690000295639038, 1.6690000295639038, 1.6689000129699707, 1.6689000129699707, 1.666200041770935, 0.7214000225067139, 0.7991999983787537, 0.6618000268936157, 1.7015999555587769, 1.7015000581741333, 1.7014000415802002, 1.701300024986267, 1.7010999917984009, 1.7010999917984009, 1.7009999752044678, 1.7008999586105347, 1.7008999586105347, 1.7008999586105347, 1.7008999586105347, 1.7005000114440918, 1.7003999948501587, 1.7001999616622925, 1.6999000310897827, 1.6994999647140503, 1.6992000341415405, 1.6990000009536743, 1.698199987411499, 1.6979999542236328, 1.6971999406814575, 1.6967999935150146, 1.6943999528884888, 1.694100022315979, 1.6923999786376953, 1.6923999786376953, 1.691100001335144, 1.6907000541687012, 1.6904000043869019, 1.6901999711990356, 1.5650999546051025, 1.0606000423431396, 1.2460999488830566, 0.5264999866485596, 1.7308000326156616, 1.7305999994277954, 1.7302000522613525, 1.7300000190734863, 1.7300000190734863, 1.7299000024795532, 1.7299000024795532, 1.729599952697754, 1.7295000553131104, 1.7295000553131104, 1.7294000387191772, 1.7294000387191772, 1.7293000221252441, 1.7288999557495117, 1.7288000583648682, 1.728600025177002, 1.7283999919891357, 1.7282999753952026, 1.7273000478744507, 1.7273000478744507, 1.7267999649047852, 1.7264000177383423, 1.7263000011444092, 1.7258000373840332, 1.7254999876022339, 1.7252000570297241, 1.725100040435791, 1.7249000072479248, 1.7247999906539917, 1.7244999408721924, 1.1904000043869019], \"logprob\": [30.0, 29.0, 28.0, 27.0, 26.0, 25.0, 24.0, 23.0, 22.0, 21.0, 20.0, 19.0, 18.0, 17.0, 16.0, 15.0, 14.0, 13.0, 12.0, 11.0, 10.0, 9.0, 8.0, 7.0, 6.0, 5.0, 4.0, 3.0, 2.0, 1.0, -1.5669000148773193, -1.8043999671936035, -1.8518999814987183, -2.85479998588562, -3.1749000549316406, -4.414000034332275, -4.460400104522705, -4.707600116729736, -5.10860013961792, -5.153900146484375, -5.155300140380859, -5.173900127410889, -4.248499870300293, -5.300600051879883, -5.298299789428711, -5.29610013961792, -5.2932000160217285, -5.324900150299072, -5.417699813842773, -5.430600166320801, -5.43120002746582, -5.522299766540527, -5.535399913787842, -5.622799873352051, -5.676599979400635, -5.683499813079834, -5.68149995803833, -5.683899879455566, -5.705999851226807, -5.701700210571289, -5.456900119781494, -4.600800037384033, -4.7941999435424805, -2.672100067138672, -3.050600051879883, -3.2365000247955322, -3.359299898147583, -3.394399881362915, -3.0473999977111816, -3.520699977874756, -3.5869998931884766, -3.7806999683380127, -3.782399892807007, -3.88919997215271, -3.8773000240325928, -3.9491000175476074, -3.9646999835968018, -4.18779993057251, -4.243000030517578, -4.2515997886657715, -4.250100135803223, -4.3308000564575195, -4.362599849700928, -4.419600009918213, -4.614699840545654, -4.784200191497803, -4.806399822235107, -4.787300109863281, -4.797800064086914, -4.8420000076293945, -4.893599987030029, -4.810800075531006, -4.946899890899658, -4.767600059509277, -4.661300182342529, -2.2855000495910645, -2.9052999019622803, -3.3320000171661377, -3.3778998851776123, -3.5425000190734863, -3.6401000022888184, -3.815500020980835, -3.819000005722046, -3.934299945831299, -3.9753000736236572, -4.142099857330322, -4.142300128936768, -4.176300048828125, -4.173600196838379, -4.345099925994873, -4.606599807739258, -4.752699851989746, -4.72130012512207, -4.7932000160217285, -4.777100086212158, -4.848899841308594, -4.85290002822876, -4.855599880218506, -4.8815999031066895, -4.904600143432617, -4.96999979019165, -4.9918999671936035, -5.023399829864502, -4.964399814605713, -5.007400035858154, -3.653599977493286, -3.1145999431610107, -4.644100189208984, -4.958700180053711, -2.4688000679016113, -2.7267000675201416, -2.796999931335449, -2.903899908065796, -3.11899995803833, -3.1324000358581543, -3.1953999996185303, -3.295599937438965, -3.296999931335449, -3.3445000648498535, -3.3691999912261963, -3.5836000442504883, -3.6577000617980957, -3.7537999153137207, -3.9302000999450684, -4.080699920654297, -4.146900177001953, -4.2230000495910645, -4.445700168609619, -4.491099834442139, -4.636099815368652, -4.549699783325195, -5.013199806213379, -5.106599807739258, -5.376399993896484, -5.378399848937988, -5.4166998863220215, -5.4496002197265625, -5.561999797821045, -5.5808000564575195, -4.066199779510498, -2.775399923324585, -3.9030001163482666, -5.30709981918335, -2.8965001106262207, -3.027899980545044, -3.3986001014709473, -3.523900032043457, -3.5271999835968018, -3.586400032043457, -3.615999937057495, -3.7746999263763428, -3.7948999404907227, -3.8083999156951904, -3.798799991607666, -3.870699882507324, -3.8968000411987305, -4.075099945068359, -4.1066999435424805, -4.162499904632568, -4.21560001373291, -3.93179988861084, -4.522299766540527, -4.502799987792969, -4.63700008392334, -4.718100070953369, -4.743299961090088, -4.824699878692627, -4.843100070953369, -4.932400226593018, -4.900199890136719, -4.913599967956543, -4.979800224304199, -5.009300231933594, -4.252999782562256]}, \"token.table\": {\"Topic\": [2, 2, 3, 2, 2, 1, 2, 5, 1, 2, 3, 4, 5, 1, 4, 3, 1, 3, 2, 4, 1, 3, 4, 3, 4, 5, 4, 1, 3, 1, 2, 3, 3, 2, 4, 2, 4, 3, 5, 3, 3, 4, 3, 2, 2, 2, 1, 3, 5, 4, 4, 1, 1, 2, 4, 4, 3, 3, 2, 5, 1, 1, 3, 5, 5, 1, 1, 1, 4, 2, 2, 2, 4, 5, 4, 2, 3, 5, 5, 5, 5, 2, 2, 3, 1, 4, 3, 5, 1, 5, 4, 5, 1, 2, 3, 5, 4, 4, 4, 4, 4, 3, 5, 2, 3, 4, 3, 4, 5, 5, 5, 5, 1, 5, 1, 1, 1, 1, 5, 4, 2, 4, 1, 1, 3, 2, 2, 5, 5, 3, 5, 3, 4, 4, 3, 5, 2, 1, 1, 3, 3, 2, 5, 5, 1, 2, 5, 5, 5, 2, 1, 4, 3, 1, 3, 3, 3, 3, 1, 4, 3, 4, 1, 5, 1, 2, 4, 4, 1, 3, 3, 2, 5, 2, 4, 2], \"Freq\": [0.9977467656135559, 0.9990844130516052, 0.0009690440492704511, 0.9996947050094604, 0.9969806671142578, 0.9936280250549316, 0.0031344732269644737, 0.0031344732269644737, 0.09507937729358673, 0.011524772271513939, 0.014405965805053711, 0.8730015158653259, 0.0057623861357569695, 0.9959104657173157, 0.9979884624481201, 0.9911496639251709, 0.998957097530365, 0.9984782934188843, 0.9984204173088074, 0.9986541867256165, 0.08804750442504883, 0.38568633794784546, 0.5263709425926208, 0.31395038962364197, 0.30689531564712524, 0.37391844391822815, 0.9994416832923889, 0.9900756478309631, 0.9951820969581604, 0.9997002482414246, 0.9953479766845703, 0.9946171045303345, 0.9937373995780945, 0.9992032647132874, 0.9975712299346924, 0.9934322834014893, 0.9992478489875793, 0.9976297616958618, 0.9991486072540283, 0.999768853187561, 0.9916831851005554, 0.008439856581389904, 0.9979100227355957, 0.9985639452934265, 0.9972401857376099, 0.9986489415168762, 0.9996797442436218, 0.9955950379371643, 0.9971163868904114, 0.9927834868431091, 0.9990686774253845, 0.9924628734588623, 0.9995861053466797, 0.9995289444923401, 0.999080240726471, 0.9995455741882324, 0.9962506890296936, 0.9992778897285461, 0.9988754987716675, 0.9976885914802551, 0.9913402795791626, 0.9881362318992615, 0.9965683221817017, 0.9964433908462524, 0.9950270652770996, 0.9935086369514465, 0.9924152493476868, 0.999885618686676, 0.9902833104133606, 0.9982305765151978, 0.9990923404693604, 0.9986817836761475, 0.9910983443260193, 0.996576726436615, 0.9976940751075745, 0.9983691573143005, 0.9986673593521118, 0.9969837665557861, 0.9972509741783142, 0.9965044260025024, 0.9987843036651611, 0.9937047362327576, 0.9988757371902466, 0.9982565641403198, 0.9880938529968262, 0.9946766495704651, 0.9977445602416992, 0.9988774657249451, 0.9973564147949219, 0.9965470433235168, 0.9986644983291626, 0.9963143467903137, 0.9983399510383606, 0.7957671284675598, 0.20216786861419678, 0.9940081238746643, 0.9958118200302124, 0.996471107006073, 0.9964926242828369, 0.9965459704399109, 0.9985410571098328, 0.9983717203140259, 0.9940840005874634, 0.9962653517723083, 0.9907286763191223, 0.9942076802253723, 0.9931294918060303, 0.9991025328636169, 0.9891734719276428, 0.9984429478645325, 0.9945827126502991, 0.9969342350959778, 0.9937933683395386, 0.9974319934844971, 0.9900916814804077, 0.9839645624160767, 0.9947242736816406, 0.989852786064148, 0.010419502854347229, 0.9995376467704773, 0.36469560861587524, 0.6333250403404236, 0.9876226186752319, 0.9926251173019409, 0.9991192817687988, 0.9986528754234314, 0.9965975284576416, 0.9975674748420715, 0.9927645325660706, 0.9989061951637268, 0.9931272864341736, 0.9990209341049194, 0.9967284798622131, 0.9988687038421631, 0.41782262921333313, 0.582564115524292, 0.995744526386261, 0.9933726191520691, 0.9966143369674683, 0.9966419339179993, 0.9923467636108398, 0.9971833825111389, 0.9989903569221497, 0.997298538684845, 0.994929850101471, 0.9980706572532654, 0.9945418238639832, 0.9968390464782715, 0.998080849647522, 0.9978086948394775, 0.9900817275047302, 0.9845717549324036, 0.9966683983802795, 0.6356732249259949, 0.3620201647281647, 0.9912814497947693, 0.9977152347564697, 0.9966569542884827, 0.9837937951087952, 0.9889835715293884, 0.9933574199676514, 0.9990507364273071, 0.9967169761657715, 0.9965793490409851, 0.9946351647377014, 0.9993160367012024, 0.9986453652381897, 0.9838200807571411, 0.9997734427452087, 0.9984702467918396, 0.9987857937812805, 0.9959912896156311, 0.9987064003944397, 0.9995503425598145, 0.9949325919151306, 0.9984577894210815], \"Term\": [\"2016\", \"2017\", \"2017\", \"2018\", \"2020\", \"22\", \"22\", \"22\", \"311\", \"311\", \"311\", \"311\", \"311\", \"\\u4e1a\\u52a1\", \"\\u4e2d\\u534e\\u4eba\\u6c11\\u5171\\u548c\\u56fd\", \"\\u4e2d\\u56fd\", \"\\u4e2d\\u5c0f\\u4f01\\u4e1a\", \"\\u4e92\\u8054\\u7f51\", \"\\u4ea7\\u4e1a\", \"\\u4ea7\\u54c1\", \"\\u4f01\\u4e1a\", \"\\u4f01\\u4e1a\", \"\\u4f01\\u4e1a\", \"\\u4f01\\u4e1a\\u540d\\u5355\", \"\\u4f01\\u4e1a\\u540d\\u5355\", \"\\u4f01\\u4e1a\\u540d\\u5355\", \"\\u4f1a\\u8bae\", \"\\u4fc3\\u8fdb\", \"\\u4fe1\\u606f\", \"\\u4fe1\\u606f\\u5316\", \"\\u4fee\\u8ba2\", \"\\u5148\\u8fdb\", \"\\u514d\\u5f81\", \"\\u5168\\u56fd\", \"\\u5168\\u56fd\\u4eba\\u5927\", \"\\u516c\\u5171\\u670d\\u52a1\", \"\\u516c\\u544a\", \"\\u516c\\u5e03\", \"\\u516c\\u5f00\", \"\\u516c\\u793a\", \"\\u519c\\u836f\", \"\\u519c\\u836f\", \"\\u51fd\", \"\\u521b\\u65b0\", \"\\u5236\\u9020\", \"\\u5236\\u9020\\u4e1a\", \"\\u529e\\u516c\\u5385\", \"\\u529e\\u6cd5\", \"\\u5316\\u5de5\", \"\\u5317\\u4eac\", \"\\u5341\\u4e8c\\u5c4a\", \"\\u5347\\u7ea7\", \"\\u5370\\u53d1\", \"\\u53d1\\u5c55\", \"\\u53d1\\u5e03\", \"\\u53f7\", \"\\u540c\\u610f\", \"\\u540d\\u5355\", \"\\u56fd\\u5bb6\", \"\\u56fd\\u5bb6\\u6807\\u51c6\", \"\\u57f9\\u80b2\", \"\\u589e\\u503c\", \"\\u5907\\u6848\", \"\\u59d4\\u5458\\u4f1a\", \"\\u5b89\\u5168\", \"\\u5b9e\\u65bd\", \"\\u5b9e\\u65bd\\u65b9\\u6848\", \"\\u5de5\\u4e1a\", \"\\u5de5\\u4ea4\", \"\\u5de5\\u4f5c\", \"\\u5e73\\u53f0\", \"\\u5e74\\u5ea6\", \"\\u5e74\\u62df\", \"\\u5e94\\u7528\", \"\\u5efa\\u8bae\", \"\\u5efa\\u8bbe\", \"\\u5f00\\u5c55\", \"\\u5f3a\\u5236\\u6027\", \"\\u5f81\\u6c42\", \"\\u5f81\\u6c42\\u610f\\u89c1\", \"\\u5f81\\u96c6\", \"\\u60c5\\u51b5\", \"\\u610f\\u89c1\", \"\\u6210\\u4e3a\", \"\\u6218\\u7565\", \"\\u6279\\u51c6\", \"\\u6279\\u590d\", \"\\u6280\\u672f\", \"\\u6280\\u672f\\u88c5\\u5907\", \"\\u62a5\\u6279\", \"\\u62df\", \"\\u6307\\u5357\", \"\\u6307\\u5bfc\", \"\\u63a8\\u8350\", \"\\u63a8\\u8350\", \"\\u63a8\\u8fdb\", \"\\u63d0\\u6848\", \"\\u6458\\u8981\", \"\\u653f\\u534f\", \"\\u65b0\\u4ea7\", \"\\u65b0\\u589e\", \"\\u65b0\\u80fd\\u6e90\", \"\\u65b9\\u6848\", \"\\u667a\\u80fd\", \"\\u66f4\\u540d\", \"\\u6709\\u9650\\u516c\\u53f8\", \"\\u670d\\u52a1\", \"\\u673a\\u52a8\\u8f66\\u8f86\", \"\\u6750\\u6599\", \"\\u6761\\u4ef6\", \"\\u6807\\u51c6\", \"\\u6807\\u51c6\\u5316\", \"\\u6c11\\u7528\", \"\\u6c7d\\u8f66\", \"\\u6ce8\\u9500\", \"\\u7206\\u70b8\", \"\\u7269\\u54c1\", \"\\u73af\\u4fdd\", \"\\u73af\\u4fdd\", \"\\u751f\\u4ea7\", \"\\u7533\\u62a5\", \"\\u7533\\u62a5\", \"\\u7535\\u4fe1\", \"\\u7535\\u4fe1\\u4e1a\\u52a1\", \"\\u76ee\\u5f55\", \"\\u793a\\u8303\", \"\\u79d1\\u6280\", \"\\u7a3f\", \"\\u7b26\\u5408\", \"\\u7b2c\\u4e00\\u6279\", \"\\u7b2c\\u4e09\\u6279\", \"\\u7b2c\\u4e8c\\u6279\", \"\\u7b2c\\u4e94\\u6b21\", \"\\u7b54\\u590d\", \"\\u7ba1\\u7406\", \"\\u7ba1\\u7406\", \"\\u7ec4\\u7ec7\", \"\\u7ecf\\u8425\", \"\\u7eff\\u8272\", \"\\u7f51\\u7edc\", \"\\u8282\\u80fd\", \"\\u878d\\u5408\", \"\\u884c\\u4e1a\", \"\\u884c\\u4e1a\\u6807\\u51c6\", \"\\u884c\\u52a8\", \"\\u884c\\u52a8\\u8ba1\\u5212\", \"\\u88c5\\u5907\", \"\\u89c4\\u8303\", \"\\u89e3\\u8bfb\", \"\\u8ba1\\u5212\", \"\\u8bb8\\u53ef\", \"\\u8bc1\\u4e66\", \"\\u8bc4\\u4ef7\", \"\\u8bd5\\u70b9\", \"\\u8bd5\\u70b9\", \"\\u8d28\\u91cf\", \"\\u8d2d\\u7f6e\\u7a0e\", \"\\u8d44\\u6e90\", \"\\u8de8\\u5730\\u533a\", \"\\u8f66\", \"\\u8f66\\u578b\", \"\\u8f66\\u8f86\", \"\\u8f6c\\u552e\", \"\\u901a\\u4fe1\", \"\\u901a\\u544a\", \"\\u901a\\u77e5\", \"\\u9053\\u8def\", \"\\u90ae\\u7535\", \"\\u90e8\", \"\\u90e8\\u62df\", \"\\u90e8\\u95e8\", \"\\u91cd\\u70b9\", \"\\u9879\", \"\\u9879\\u76ee\", \"\\u9881\\u53d1\", \"\\uff0d\"]}, \"R\": 30, \"lambda.step\": 0.01, \"plot.opts\": {\"xlab\": \"PC1\", \"ylab\": \"PC2\"}, \"topic.order\": [5, 2, 1, 3, 4]};\n",
       "\n",
       "function LDAvis_load_lib(url, callback){\n",
       "  var s = document.createElement('script');\n",
       "  s.src = url;\n",
       "  s.async = true;\n",
       "  s.onreadystatechange = s.onload = callback;\n",
       "  s.onerror = function(){console.warn(\"failed to load library \" + url);};\n",
       "  document.getElementsByTagName(\"head\")[0].appendChild(s);\n",
       "}\n",
       "\n",
       "if(typeof(LDAvis) !== \"undefined\"){\n",
       "   // already loaded: just create the visualization\n",
       "   !function(LDAvis){\n",
       "       new LDAvis(\"#\" + \"ldavis_el875625520027234168652747721\", ldavis_el875625520027234168652747721_data);\n",
       "   }(LDAvis);\n",
       "}else if(typeof define === \"function\" && define.amd){\n",
       "   // require.js is available: use it to load d3/LDAvis\n",
       "   require.config({paths: {d3: \"https://cdnjs.cloudflare.com/ajax/libs/d3/3.5.5/d3.min\"}});\n",
       "   require([\"d3\"], function(d3){\n",
       "      window.d3 = d3;\n",
       "      LDAvis_load_lib(\"https://cdn.rawgit.com/bmabey/pyLDAvis/files/ldavis.v1.0.0.js\", function(){\n",
       "        new LDAvis(\"#\" + \"ldavis_el875625520027234168652747721\", ldavis_el875625520027234168652747721_data);\n",
       "      });\n",
       "    });\n",
       "}else{\n",
       "    // require.js not available: dynamically load d3 & LDAvis\n",
       "    LDAvis_load_lib(\"https://cdnjs.cloudflare.com/ajax/libs/d3/3.5.5/d3.min.js\", function(){\n",
       "         LDAvis_load_lib(\"https://cdn.rawgit.com/bmabey/pyLDAvis/files/ldavis.v1.0.0.js\", function(){\n",
       "                 new LDAvis(\"#\" + \"ldavis_el875625520027234168652747721\", ldavis_el875625520027234168652747721_data);\n",
       "            })\n",
       "         });\n",
       "}\n",
       "</script>"
      ],
      "text/plain": [
       "PreparedData(topic_coordinates=              x         y  topics  cluster       Freq\n",
       "topic                                                \n",
       "4      0.051601 -0.381532       1        1  22.917635\n",
       "1     -0.226255 -0.000919       2        1  22.417738\n",
       "0      0.117458  0.069506       3        1  18.735746\n",
       "2      0.292898  0.160948       4        1  18.228615\n",
       "3     -0.235702  0.151997       5        1  17.700270, topic_info=     Category         Freq  Term        Total  loglift  logprob\n",
       "term                                                           \n",
       "104   Default  4632.000000    工业  4632.000000  30.0000  30.0000\n",
       "60    Default  3653.000000   信息化  3653.000000  29.0000  29.0000\n",
       "54    Default  3483.000000     部  3483.000000  28.0000  28.0000\n",
       "109   Default  1846.000000    公示  1846.000000  27.0000  27.0000\n",
       "112   Default  1495.000000    生产  1495.000000  26.0000  26.0000\n",
       "30    Default  1501.000000    通知  1501.000000  25.0000  25.0000\n",
       "143   Default  1155.000000    公告  1155.000000  24.0000  24.0000\n",
       "640   Default  1278.000000   办公厅  1278.000000  23.0000  23.0000\n",
       "103   Default  1077.000000     号  1077.000000  22.0000  22.0000\n",
       "286   Default   993.000000    名单   993.000000  21.0000  21.0000\n",
       "0     Default   968.000000    产品   968.000000  20.0000  20.0000\n",
       "1     Default  2089.000000    企业  2089.000000  19.0000  19.0000\n",
       "73    Default   947.000000     项   947.000000  18.0000  18.0000\n",
       "3427  Default  1031.000000  2017  1031.000000  17.0000  17.0000\n",
       "2800  Default  1028.000000  2018  1028.000000  16.0000  16.0000\n",
       "634   Default   830.000000    公开   830.000000  15.0000  15.0000\n",
       "75    Default   928.000000    印发   928.000000  14.0000  14.0000\n",
       "524   Default   781.000000    道路   781.000000  13.0000  13.0000\n",
       "521   Default   770.000000  机动车辆   770.000000  12.0000  12.0000\n",
       "370   Default   853.000000    意见   853.000000  11.0000  11.0000\n",
       "221   Default   723.000000    车辆   723.000000  10.0000  10.0000\n",
       "61    Default   755.000000    发展   755.000000   9.0000   9.0000\n",
       "3564  Default   654.000000    答复   654.000000   8.0000   8.0000\n",
       "250   Default   653.000000     拟   653.000000   7.0000   7.0000\n",
       "240   Default   729.000000    项目   729.000000   6.0000   6.0000\n",
       "234   Default   648.000000    开展   648.000000   5.0000   5.0000\n",
       "3560  Default   623.000000   十二届   623.000000   4.0000   4.0000\n",
       "484   Default   619.000000    部门   619.000000   3.0000   3.0000\n",
       "1245  Default   608.000000    会议   608.000000   2.0000   2.0000\n",
       "697   Default   573.000000    技术   573.000000   1.0000   1.0000\n",
       "...       ...          ...   ...          ...      ...      ...\n",
       "634    Topic5   829.907532    公开   830.707275   1.7306  -3.0279\n",
       "697    Topic5   572.828613    技术   573.643921   1.7302  -3.3986\n",
       "1323   Topic5   505.377319  国家标准   506.169952   1.7300  -3.5239\n",
       "299    Topic5   503.713318    行业   504.509369   1.7300  -3.5272\n",
       "507    Topic5   474.779694    征集   475.578156   1.7299  -3.5864\n",
       "1281   Topic5   460.924866    条件   461.718933   1.7299  -3.6160\n",
       "734    Topic5   393.269440  行业标准   394.064545   1.7296  -3.7747\n",
       "29     Topic5   385.425812    规范   386.220825   1.7295  -3.7949\n",
       "635    Topic5   380.253418    征求   381.047516   1.7295  -3.8084\n",
       "24     Topic5   383.914612    解读   384.738373   1.7294  -3.7988\n",
       "2482   Topic5   357.283203   强制性   358.080048   1.7294  -3.8707\n",
       "252    Topic5   348.083801    汽车   348.895966   1.7293  -3.8968\n",
       "815    Topic5   291.228119  征求意见   292.020782   1.7289  -4.0751\n",
       "767    Topic5   282.186676    报批   282.977112   1.7288  -4.1067\n",
       "816    Topic5   266.858032     稿   267.651062   1.7286  -4.1625\n",
       "156    Topic5   253.067902    通信   253.868393   1.7284  -4.2156\n",
       "688    Topic5   336.099792   委员会   337.199280   1.7283  -3.9318\n",
       "91     Topic5   186.216293    标准   187.013107   1.7273  -4.5223\n",
       "770    Topic5   189.879974    指南   190.702866   1.7273  -4.5028\n",
       "185    Topic5   166.031158    安全   166.829636   1.7268  -4.6370\n",
       "241    Topic5   153.109558    方案   153.910538   1.7264  -4.7181\n",
       "548    Topic5   149.295990    符合   150.085938   1.7263  -4.7433\n",
       "1324   Topic5   137.622955   标准化   138.424377   1.7258  -4.8247\n",
       "657    Topic5   135.112305   第三批   135.934235   1.7255  -4.8431\n",
       "1693   Topic5   123.567795    化工   124.358604   1.7252  -4.9324\n",
       "101    Topic5   127.610580    应用   128.439682   1.7251  -4.9002\n",
       "18     Topic5   125.919151    推进   126.759529   1.7249  -4.9136\n",
       "387    Topic5   117.845863    装备   118.647598   1.7248  -4.9798\n",
       "242    Topic5   114.429558    材料   115.247734   1.7245  -5.0093\n",
       "3      Topic5   243.778137    管理   418.838013   1.1904  -4.2530\n",
       "\n",
       "[194 rows x 6 columns], token_table=      Topic      Freq     Term\n",
       "term                          \n",
       "3164      2  0.997747     2016\n",
       "3427      2  0.999084     2017\n",
       "3427      3  0.000969     2017\n",
       "2800      2  0.999695     2018\n",
       "58        2  0.996981     2020\n",
       "3067      1  0.993628       22\n",
       "3067      2  0.003134       22\n",
       "3067      5  0.003134       22\n",
       "4605      1  0.095079      311\n",
       "4605      2  0.011525      311\n",
       "4605      3  0.014406      311\n",
       "4605      4  0.873002      311\n",
       "4605      5  0.005762      311\n",
       "471       1  0.995910       业务\n",
       "271       4  0.997988  中华人民共和国\n",
       "580       3  0.991150       中国\n",
       "232       1  0.998957     中小企业\n",
       "34        3  0.998478      互联网\n",
       "335       2  0.998420       产业\n",
       "0         4  0.998654       产品\n",
       "1         1  0.088048       企业\n",
       "1         3  0.385686       企业\n",
       "1         4  0.526371       企业\n",
       "108       3  0.313950     企业名单\n",
       "108       4  0.306895     企业名单\n",
       "108       5  0.373918     企业名单\n",
       "1245      4  0.999442       会议\n",
       "486       1  0.990076       促进\n",
       "35        3  0.995182       信息\n",
       "60        1  0.999700      信息化\n",
       "...     ...       ...      ...\n",
       "387       5  0.994542       装备\n",
       "29        5  0.996839       规范\n",
       "24        5  0.998081       解读\n",
       "419       2  0.997809       计划\n",
       "214       1  0.990082       许可\n",
       "494       4  0.984572       证书\n",
       "1304      3  0.996668       评价\n",
       "694       1  0.635673       试点\n",
       "694       3  0.362020       试点\n",
       "77        3  0.991281       质量\n",
       "1066      3  0.997715      购置税\n",
       "88        3  0.996657       资源\n",
       "212       1  0.983794      跨地区\n",
       "814       4  0.988984        车\n",
       "2094      3  0.993357       车型\n",
       "221       4  0.999051       车辆\n",
       "2602      1  0.996717       转售\n",
       "156       5  0.996579       通信\n",
       "106       1  0.994635       通告\n",
       "30        2  0.999316       通知\n",
       "524       4  0.998645       道路\n",
       "3849      4  0.983820       邮电\n",
       "54        1  0.999773        部\n",
       "310       3  0.998470       部拟\n",
       "484       3  0.998786       部门\n",
       "397       2  0.995991       重点\n",
       "73        5  0.998706        项\n",
       "240       2  0.999550       项目\n",
       "669       4  0.994933       颁发\n",
       "2421      2  0.998458        －\n",
       "\n",
       "[176 rows x 3 columns], R=30, lambda_step=0.01, plot_opts={'xlab': 'PC1', 'ylab': 'PC2'}, topic_order=[5, 2, 1, 3, 4])"
      ]
     },
     "execution_count": 169,
     "metadata": {},
     "output_type": "execute_result"
    }
   ],
   "source": [
    "import pyLDAvis.sklearn\n",
    "\n",
    "# skilearn model\n",
    "#pyLDAvis.enable_notebook()\n",
    "#panel = pyLDAvis.sklearn.prepare(MIIT_w2v, cntTf, cntVector)\n",
    "#panel\n",
    "\n",
    "# gensim model\n",
    "pyLDAvis.enable_notebook()\n",
    "vis = pyLDAvis.gensim.prepare(lda_model, corpus, id2word)\n",
    "vis"
   ]
  },
  {
   "cell_type": "markdown",
   "metadata": {},
   "source": [
    "## Examples:\n",
    "> ### Topic 1: 公示工业信息产品\n",
    "> ### Topic 2: 每年的工业信息印发\n",
    "> ### Topic 3: 关于汽车辆企业产品\n",
    "> ### Topic 4: 关于车辆生产与设备\n",
    "> ### Topic 5: 中国创造2025与\n",
    "\n",
    "#### note: delete potential stopwords: 关于，"
   ]
  },
  {
   "cell_type": "markdown",
   "metadata": {},
   "source": [
    "### SAT type questions:"
   ]
  },
  {
   "cell_type": "code",
   "execution_count": 130,
   "metadata": {},
   "outputs": [],
   "source": [
    "def nearest_similarity_cosmul(start1,end1,end2):\n",
    "    similarities = MIIT_w2v.most_similar_cosmul(\n",
    "        positive=[end2, start1],\n",
    "        negative=[end1]\n",
    "    )\n",
    "    start2 = similarities[0][0]\n",
    "    print(\"{start1} is related to {end1}, as {start2} is related to {end2}\")\n",
    "    return start2"
   ]
  },
  {
   "cell_type": "code",
   "execution_count": 132,
   "metadata": {},
   "outputs": [
    {
     "name": "stdout",
     "output_type": "stream",
     "text": [
      "{start1} is related to {end1}, as {start2} is related to {end2}\n"
     ]
    },
    {
     "name": "stderr",
     "output_type": "stream",
     "text": [
      "C:\\Users\\ASUS\\Anaconda3\\lib\\site-packages\\ipykernel_launcher.py:4: DeprecationWarning: Call to deprecated `most_similar_cosmul` (Method will be removed in 4.0.0, use self.wv.most_similar_cosmul() instead).\n",
      "  after removing the cwd from sys.path.\n"
     ]
    },
    {
     "data": {
      "text/plain": [
       "'无线电'"
      ]
     },
     "execution_count": 132,
     "metadata": {},
     "output_type": "execute_result"
    }
   ],
   "source": [
    "nearest_similarity_cosmul(\"提高\",\"电子\",\"型号\")"
   ]
  },
  {
   "cell_type": "code",
   "execution_count": 73,
   "metadata": {},
   "outputs": [
    {
     "name": "stderr",
     "output_type": "stream",
     "text": [
      "C:\\Users\\ASUS\\Anaconda3\\lib\\site-packages\\gensim\\models\\ldamodel.py:811: RuntimeWarning: invalid value encountered in double_scalars\n",
      "  perwordbound = self.bound(chunk, subsample_ratio=subsample_ratio) / (subsample_ratio * corpus_words)\n"
     ]
    },
    {
     "data": {
      "text/plain": [
       "[(0,\n",
       "  '0.000*\"编制工作\" + 0.000*\"22\" + 0.000*\"玩具\" + 0.000*\"绿色建材\" + 0.000*\"翔龙\" + 0.000*\"六家\" + 0.000*\"261\" + 0.000*\"节日\" + 0.000*\"十一届\" + 0.000*\"显示\"'),\n",
       " (1,\n",
       "  '0.000*\"编制工作\" + 0.000*\"22\" + 0.000*\"玩具\" + 0.000*\"绿色建材\" + 0.000*\"翔龙\" + 0.000*\"六家\" + 0.000*\"261\" + 0.000*\"节日\" + 0.000*\"十一届\" + 0.000*\"显示\"'),\n",
       " (2,\n",
       "  '0.000*\"编制工作\" + 0.000*\"22\" + 0.000*\"玩具\" + 0.000*\"绿色建材\" + 0.000*\"翔龙\" + 0.000*\"六家\" + 0.000*\"261\" + 0.000*\"节日\" + 0.000*\"十一届\" + 0.000*\"显示\"'),\n",
       " (3,\n",
       "  '0.000*\"编制工作\" + 0.000*\"22\" + 0.000*\"玩具\" + 0.000*\"绿色建材\" + 0.000*\"翔龙\" + 0.000*\"六家\" + 0.000*\"261\" + 0.000*\"节日\" + 0.000*\"十一届\" + 0.000*\"显示\"'),\n",
       " (4,\n",
       "  '0.000*\"编制工作\" + 0.000*\"22\" + 0.000*\"玩具\" + 0.000*\"绿色建材\" + 0.000*\"翔龙\" + 0.000*\"六家\" + 0.000*\"261\" + 0.000*\"节日\" + 0.000*\"十一届\" + 0.000*\"显示\"')]"
      ]
     },
     "execution_count": 73,
     "metadata": {},
     "output_type": "execute_result"
    }
   ],
   "source": [
    "import gensim.corpora as corpora\n",
    "from gensim.utils import simple_preprocess\n",
    "from gensim.models import CoherenceModel, LdaModel\n",
    "from gensim.corpora import Dictionary\n",
    "\n",
    "# Plotting tools\n",
    "import pyLDAvis\n",
    "import pyLDAvis.gensim  # don't skip this\n",
    "import matplotlib.pyplot as plt\n",
    "%matplotlib inline\n",
    "\n",
    "\n",
    "corpus = df.title\n",
    "# 构建训练语料\n",
    "dictionary = Dictionary(sentences)\n",
    "corpus = [ dictionary.doc2bow(corpus) for text in corpus]\n",
    "\n",
    "# lda模型训练\n",
    "lda = LdaModel(corpus=corpus, id2word=dictionary, num_topics=5)\n",
    "lda.print_topics()"
   ]
  },
  {
   "cell_type": "markdown",
   "metadata": {},
   "source": [
    "# FIND THE OPTIMAL NUMBER OF TOPICS?"
   ]
  },
  {
   "cell_type": "code",
   "execution_count": 162,
   "metadata": {},
   "outputs": [],
   "source": [
    "def compute_coherence_values(dictionary, corpus, texts, limit, start=2, step=3):\n",
    "    \"\"\"\n",
    "    Compute c_v coherence for various number of topics\n",
    "\n",
    "    Parameters:\n",
    "    ----------\n",
    "    dictionary : Gensim dictionary\n",
    "    corpus : Gensim corpus\n",
    "    texts : List of input texts\n",
    "    limit : Max num of topics\n",
    "\n",
    "    Returns:\n",
    "    -------\n",
    "    model_list : List of LDA topic models\n",
    "    coherence_values : Coherence values corresponding to the LDA model with respective number of topics\n",
    "    \"\"\"\n",
    "    coherence_values = []\n",
    "    model_list = []\n",
    "    for num_topics in range(start, limit, step):\n",
    "        model=LdaModel(corpus=corpus, id2word=dictionary, num_topics=num_topics)\n",
    "        model_list.append(model)\n",
    "        coherencemodel = CoherenceModel(model=model, texts=texts, dictionary=dictionary, coherence='c_v')\n",
    "        coherence_values.append(coherencemodel.get_coherence())\n",
    "\n",
    "    return model_list, coherence_values"
   ]
  },
  {
   "cell_type": "code",
   "execution_count": 165,
   "metadata": {},
   "outputs": [
    {
     "name": "stderr",
     "output_type": "stream",
     "text": [
      "C:\\Users\\ASUS\\Anaconda3\\lib\\site-packages\\gensim\\topic_coherence\\direct_confirmation_measure.py:202: RuntimeWarning: invalid value encountered in true_divide\n",
      "  numerator = (co_occur_count / num_docs) + EPSILON\n",
      "C:\\Users\\ASUS\\Anaconda3\\lib\\site-packages\\gensim\\topic_coherence\\direct_confirmation_measure.py:203: RuntimeWarning: invalid value encountered in true_divide\n",
      "  denominator = (w_prime_count / num_docs) * (w_star_count / num_docs)\n",
      "C:\\Users\\ASUS\\Anaconda3\\lib\\site-packages\\gensim\\topic_coherence\\direct_confirmation_measure.py:198: RuntimeWarning: invalid value encountered in true_divide\n",
      "  co_doc_prob = co_occur_count / num_docs\n",
      "C:\\Users\\ASUS\\Anaconda3\\lib\\site-packages\\gensim\\topic_coherence\\direct_confirmation_measure.py:204: RuntimeWarning: divide by zero encountered in double_scalars\n",
      "  m_lr_i = np.log(numerator / denominator)\n",
      "C:\\Users\\ASUS\\Anaconda3\\lib\\site-packages\\gensim\\topic_coherence\\indirect_confirmation_measure.py:323: RuntimeWarning: invalid value encountered in double_scalars\n",
      "  return cv1.T.dot(cv2)[0, 0] / (_magnitude(cv1) * _magnitude(cv2))\n",
      "C:\\Users\\ASUS\\Anaconda3\\lib\\site-packages\\matplotlib\\cbook\\__init__.py:2349: DeprecationWarning: Using or importing the ABCs from 'collections' instead of from 'collections.abc' is deprecated, and in 3.8 it will stop working\n",
      "  if isinstance(obj, collections.Iterator):\n",
      "C:\\Users\\ASUS\\Anaconda3\\lib\\site-packages\\matplotlib\\cbook\\__init__.py:2366: DeprecationWarning: Using or importing the ABCs from 'collections' instead of from 'collections.abc' is deprecated, and in 3.8 it will stop working\n",
      "  return list(data) if isinstance(data, collections.MappingView) else data\n"
     ]
    },
    {
     "data": {
      "image/png": "[encoded data removed]",
      "text/plain": [
       "<Figure size 432x288 with 1 Axes>"
      ]
     },
     "metadata": {
      "needs_background": "light"
     },
     "output_type": "display_data"
    }
   ],
   "source": [
    "model_list, coherence_values = compute_coherence_values(dictionary=dictionary, corpus=corpus, texts=text, start=2, limit=40, step=6)\n",
    "# Show graph\n",
    "import matplotlib.pyplot as plt\n",
    "limit=40; start=2; step=6;\n",
    "x = range(start, limit, step)\n",
    "plt.plot(x, coherence_values)\n",
    "plt.xlabel(\"Num Topics\")\n",
    "plt.ylabel(\"Coherence score\")\n",
    "plt.legend((\"coherence_values\"), loc='best')\n",
    "plt.show()"
   ]
  },
  {
   "cell_type": "markdown",
   "metadata": {},
   "source": [
    "# Try Doc2Vec Gensim Approach\n",
    "> * https://medium.com/scaleabout/a-gentle-introduction-to-doc2vec-db3e8c0cce5e\n",
    "> * https://towardsdatascience.com/multi-class-text-classification-with-doc2vec-logistic-regression-9da9947b43f4"
   ]
  },
  {
   "cell_type": "markdown",
   "metadata": {},
   "source": [
    "# Save and Reload WorkEnv"
   ]
  },
  {
   "cell_type": "code",
   "execution_count": 190,
   "metadata": {},
   "outputs": [],
   "source": [
    "import dill\n",
    "dill.dump_session('notebook_env.db')"
   ]
  },
  {
   "cell_type": "markdown",
   "metadata": {},
   "source": [
    "# *Should we use DOC2VEC for training? perhaps word2vec for title & for the body of the posts?"
   ]
  },
  {
   "cell_type": "code",
   "execution_count": 5,
   "metadata": {},
   "outputs": [],
   "source": [
    "import dill\n",
    "dill.load_session('../ASUS/Desktop/Thesis/notebook_env.db')"
   ]
  },
  {
   "cell_type": "code",
   "execution_count": null,
   "metadata": {},
   "outputs": [],
   "source": []
  }
 ],
 "metadata": {
  "kernelspec": {
   "display_name": "Python 3",
   "language": "python",
   "name": "python3"
  },
  "language_info": {
   "codemirror_mode": {
    "name": "ipython",
    "version": 3
   },
   "file_extension": ".py",
   "mimetype": "text/x-python",
   "name": "python",
   "nbconvert_exporter": "python",
   "pygments_lexer": "ipython3",
   "version": "3.7.0"
  }
 },
 "nbformat": 4,
 "nbformat_minor": 2
}
